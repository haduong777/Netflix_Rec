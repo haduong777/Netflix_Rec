{
 "cells": [
  {
   "cell_type": "code",
   "execution_count": 21,
   "metadata": {
    "id": "2GDq4eqJL8Xh"
   },
   "outputs": [],
   "source": [
    "import sys\n",
    "sys.path.append('../src')\n",
    "from data.data_utils import load_partitions, read_partition"
   ]
  },
  {
   "cell_type": "code",
   "execution_count": 34,
   "metadata": {
    "id": "e46rpgXdMEME"
   },
   "outputs": [],
   "source": [
    "# GOOGLE COLLAB ONLY\n",
    "from google.colab import drive"
   ]
  },
  {
   "cell_type": "code",
   "execution_count": null,
   "metadata": {
    "id": "DzhkwbSWMXmr"
   },
   "outputs": [],
   "source": [
    "drive.mount('/gdrive')"
   ]
  },
  {
   "cell_type": "code",
   "execution_count": 48,
   "metadata": {
    "id": "7MG5hHXMMMKH"
   },
   "outputs": [],
   "source": [
    "params = {\n",
    "  'data_dir': '/gdrive/MyDrive/Netflix_Prize/processed',\n",
    "  'output_dir': '/gdrive/MyDrive/Netflix_Prize/split',\n",
    "  'test_ratio': 0.1,      # validation ratio\n",
    "  'sample_ratio': 0.2     # sampling to preserve distribution\n",
    "}\n"
   ]
  },
  {
   "cell_type": "code",
   "execution_count": 49,
   "metadata": {
    "colab": {
     "base_uri": "https://localhost:8080/"
    },
    "id": "NrGDVPdqMEMF",
    "outputId": "03ec210f-d41a-4c80-d9f9-054360d895ed"
   },
   "outputs": [
    {
     "name": "stdout",
     "output_type": "stream",
     "text": [
      "Found 34 partition files\n",
      "Sampling dates from 6 files out of 34\n"
     ]
    },
    {
     "name": "stderr",
     "output_type": "stream",
     "text": [
      "Sampling dates: 100%|██████████| 6/6 [00:35<00:00,  5.93s/it]\n"
     ]
    },
    {
     "name": "stdout",
     "output_type": "stream",
     "text": [
      "Split date: 2005-10-03 00:00:00\n"
     ]
    },
    {
     "name": "stderr",
     "output_type": "stream",
     "text": [
      "Splitting files: 100%|██████████| 34/34 [00:46<00:00,  1.38s/it]\n"
     ]
    },
    {
     "name": "stdout",
     "output_type": "stream",
     "text": [
      "Completed temporal split\n"
     ]
    }
   ],
   "source": [
    "output = create_temporal_split(**params)"
   ]
  },
  {
   "cell_type": "code",
   "execution_count": 50,
   "metadata": {
    "colab": {
     "base_uri": "https://localhost:8080/"
    },
    "id": "dUY3Xj19VHwg",
    "outputId": "6ab4a148-e69f-411f-f3ff-7f09c6aa9861"
   },
   "outputs": [
    {
     "name": "stdout",
     "output_type": "stream",
     "text": [
      "Split Date 2005-10-03 00:00:00\n",
      "train_count: 88946246\n",
      "validation_count: 10125866\n",
      "total_count: 99072112\n",
      "train_ratio: 0.8977929732637576\n",
      "validation_ratio: 0.10220702673624238\n",
      "train_files: 34\n",
      "validation_files: 34\n",
      "train_movies: 17770\n",
      "validation_movies: 17770\n",
      "movies_in_both: 17770\n",
      "train_only_movies: 0\n",
      "validation_only_movies: 0\n"
     ]
    }
   ],
   "source": [
    "print(f'Split Date {output[\"split_date\"]}')\n",
    "for k, v in output['statistics'].items():\n",
    "    print(f\"{k}: {v}\")"
   ]
  },
  {
   "cell_type": "markdown",
   "metadata": {
    "id": "Tt8FtuW7V8nh"
   },
   "source": [
    "We ended up with:\n",
    "- ~89M training entries\n",
    "- ~10.1M validation entries\n",
    "- ~1.4M test (for final score)\n",
    "\n",
    "Our splitting strategy looked to be successful. Notably all 17770 movies showed up in both the validation and the train datasets which is a sign that the distribution was kept relatively the same. As an extension we can look into different splitting strategies like validating on users/movies that weren't part of the training data."
   ]
  }
 ],
 "metadata": {
  "colab": {
   "provenance": []
  },
  "kernelspec": {
   "display_name": "Python 3 (ipykernel)",
   "language": "python",
   "name": "python3"
  },
  "language_info": {
   "codemirror_mode": {
    "name": "ipython",
    "version": 3
   },
   "file_extension": ".py",
   "mimetype": "text/x-python",
   "name": "python",
   "nbconvert_exporter": "python",
   "pygments_lexer": "ipython3",
   "version": "3.11.9"
  }
 },
 "nbformat": 4,
 "nbformat_minor": 4
}
