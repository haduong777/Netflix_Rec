{
 "cells": [
  {
   "cell_type": "code",
   "execution_count": 1,
   "metadata": {
    "colab": {
     "base_uri": "https://localhost:8080/",
     "height": 375
    },
    "id": "h6IdZY_JkdlI",
    "outputId": "6397b3c2-d00b-4b61-8ee7-4f126fd7fb3a"
   },
   "outputs": [],
   "source": [
    "import numpy as np\n",
    "import pandas as pd\n",
    "import os\n",
    "import sys\n",
    "import re\n",
    "import random\n",
    "import torch\n",
    "from typing import List, Dict, Optional\n",
    "import matplotlib.pyplot as plt\n",
    "from tqdm import tqdm"
   ]
  },
  {
   "cell_type": "code",
   "execution_count": 2,
   "metadata": {},
   "outputs": [],
   "source": [
    "sys.path.append('..') \n",
    "\n",
    "from src.models.autoencoder import AutoEncoder\n",
    "from src.models.autoencoder_trainer import *\n",
    "from src.data.data_utils import *\n",
    "\n",
    "device = torch.device('cuda' if torch.cuda.is_available() else 'cpu')"
   ]
  },
  {
   "cell_type": "code",
   "execution_count": 3,
   "metadata": {
    "id": "q5SV28rPnfzI"
   },
   "outputs": [],
   "source": [
    "data_dir = '../NETFLIX_DATA/partitions/train'\n",
    "val_dir = '../NETFLIX_DATA/partitions/validation'\n",
    "checkpoint_dir = '../checkpoints'"
   ]
  },
  {
   "cell_type": "code",
   "execution_count": 4,
   "metadata": {
    "colab": {
     "base_uri": "https://localhost:8080/"
    },
    "id": "aN0OQaig8krT",
    "outputId": "fb7c2ba2-b2c0-4df0-87e4-a5368a86de8b"
   },
   "outputs": [
    {
     "name": "stdout",
     "output_type": "stream",
     "text": [
      "Number of training partitions: 34\n",
      "Number of validation partitions: 34\n",
      "Train EX: {'path': '../NETFLIX_DATA/partitions/train/part_1_7.parquet', 'part': 1, 'group': 7}\n",
      "Val EX: {'path': '../NETFLIX_DATA/partitions/validation/part_1_7.parquet', 'part': 1, 'group': 7}\n"
     ]
    }
   ],
   "source": [
    "# retreive training data info\n",
    "train_partition_files = get_data(data_dir)\n",
    "print(f\"Number of training partitions: {len(train_partition_files)}\")\n",
    "val_partition_files = get_data(val_dir)\n",
    "print(f\"Number of validation partitions: {len(val_partition_files)}\")\n",
    "\n",
    "seed = 42\n",
    "random.seed(seed)\n",
    "\n",
    "# testing\n",
    "sample_train_partitions = random.sample(train_partition_files, 3)\n",
    "\n",
    "sample_val_partitions = []\n",
    "for partition in sample_train_partitions:\n",
    "  val_partition = partition.copy()\n",
    "  val_partition['path'] = partition['path'].replace('train', 'validation')\n",
    "  sample_val_partitions.append(val_partition)\n",
    "\n",
    "\n",
    "print(f\"Train EX: {sample_train_partitions[0]}\")\n",
    "print(f\"Val EX: {sample_val_partitions[0]}\")"
   ]
  },
  {
   "cell_type": "code",
   "execution_count": 5,
   "metadata": {
    "colab": {
     "base_uri": "https://localhost:8080/"
    },
    "id": "g_bZtDnAn-kV",
    "outputId": "b122695f-18df-4a89-9a85-6761ebd0ce64"
   },
   "outputs": [
    {
     "name": "stderr",
     "output_type": "stream",
     "text": [
      "Mapping IDs: 100%|██████████| 3/3 [00:00<00:00,  6.63it/s]\n"
     ]
    },
    {
     "name": "stdout",
     "output_type": "stream",
     "text": [
      "Map successful for 406244 users, 1653 movies\n"
     ]
    }
   ],
   "source": [
    "# build user_map and movie_map\n",
    "user_map, movie_map = map_id(sample_train_partitions)"
   ]
  },
  {
   "cell_type": "code",
   "execution_count": 6,
   "metadata": {
    "id": "ZYYQ9SKJoAk2"
   },
   "outputs": [],
   "source": [
    "# 7 each as a test + for tuning\n",
    "train_partitions = sample_train_partitions\n",
    "val_partitions = sample_val_partitions"
   ]
  },
  {
   "cell_type": "code",
   "execution_count": 7,
   "metadata": {},
   "outputs": [],
   "source": [
    "params = {\n",
    "    \"num_epochs\": 1,  #50\n",
    "    \"batch_size\": 256,\n",
    "    \"learning_rate\": 0.01, #0.001\n",
    "    \"hidden_dims\": [256, 128], # 512 256 128\n",
    "    \"dropout\": 0.5,\n",
    "    \"l2_reg\": 0.001,\n",
    "    \"checkpoint_interval\": 1, #5 or 10\n",
    "    \"eval_interval\": 5,\n",
    "}"
   ]
  },
  {
   "cell_type": "code",
   "execution_count": 8,
   "metadata": {
    "colab": {
     "base_uri": "https://localhost:8080/",
     "height": 443
    },
    "id": "eQ5xmua2oCPe",
    "outputId": "97341bfa-9213-4327-c797-d8fdd32f9c89"
   },
   "outputs": [
    {
     "name": "stdout",
     "output_type": "stream",
     "text": [
      "Training on device: cuda\n"
     ]
    },
    {
     "name": "stderr",
     "output_type": "stream",
     "text": [
      "Calculating global mean: 100%|██████████| 3/3 [00:00<00:00, 20.51it/s]"
     ]
    },
    {
     "name": "stdout",
     "output_type": "stream",
     "text": [
      "Global mean rating: 3.582\n"
     ]
    },
    {
     "name": "stderr",
     "output_type": "stream",
     "text": [
      "\n",
      "Loading user data: 100%|██████████| 3/3 [00:00<00:00, 19.52it/s]\n",
      "Loading user data: 100%|██████████| 3/3 [00:00<00:00, 71.42it/s]\n",
      "Epoch 1/1: 100%|██████████| 1406/1406 [04:13<00:00,  5.54it/s, loss=1.4614]\n"
     ]
    },
    {
     "name": "stdout",
     "output_type": "stream",
     "text": [
      "Epoch 1 - Average Loss: 1.7536\n",
      "Validation Loss: 3.0794\n",
      "Saved checkpoint at ../checkpoints/checkpoint_epoch_1.pth.gz\n",
      "Saved final model at ../checkpoints/final_model.pth.gz\n"
     ]
    }
   ],
   "source": [
    "# train model\n",
    "model = train_autoencoder(\n",
    "    train_partitions=sample_train_partitions,\n",
    "    user_map=user_map,\n",
    "    movie_map=movie_map,\n",
    "    validation_partitions=sample_val_partitions,\n",
    "    checkpoint_dir=checkpoint_dir,\n",
    "    **params\n",
    ")"
   ]
  },
  {
   "cell_type": "code",
   "execution_count": 9,
   "metadata": {},
   "outputs": [
    {
     "name": "stderr",
     "output_type": "stream",
     "text": [
      "Loading user data: 100%|██████████| 3/3 [00:00<00:00, 63.45it/s]\n"
     ]
    },
    {
     "data": {
      "text/plain": [
       "{'loss': 3.079413402570437,\n",
       " 'rmse': 1.0926656718315744,\n",
       " 'mae': 0.8589280956699702}"
      ]
     },
     "execution_count": 9,
     "metadata": {},
     "output_type": "execute_result"
    }
   ],
   "source": [
    "validation_data = model.load_user_data(sample_val_partitions, user_map)\n",
    "\n",
    "evaluate_model(\n",
    "    model,\n",
    "    validation_data=validation_data,\n",
    "    movie_map=movie_map,\n",
    "    device=device\n",
    ")"
   ]
  },
  {
   "cell_type": "code",
   "execution_count": null,
   "metadata": {},
   "outputs": [],
   "source": []
  }
 ],
 "metadata": {
  "colab": {
   "provenance": []
  },
  "kernelspec": {
   "display_name": "Python 3 (ipykernel)",
   "language": "python",
   "name": "python3"
  },
  "language_info": {
   "codemirror_mode": {
    "name": "ipython",
    "version": 3
   },
   "file_extension": ".py",
   "mimetype": "text/x-python",
   "name": "python",
   "nbconvert_exporter": "python",
   "pygments_lexer": "ipython3",
   "version": "3.11.9"
  }
 },
 "nbformat": 4,
 "nbformat_minor": 4
}
