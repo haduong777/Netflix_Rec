{
 "cells": [
  {
   "cell_type": "code",
   "execution_count": 1,
   "metadata": {
    "colab": {
     "base_uri": "https://localhost:8080/",
     "height": 375
    },
    "id": "h6IdZY_JkdlI",
    "outputId": "6397b3c2-d00b-4b61-8ee7-4f126fd7fb3a"
   },
   "outputs": [],
   "source": [
    "import numpy as np\n",
    "import pandas as pd\n",
    "import os\n",
    "import sys\n",
    "import re\n",
    "import random\n",
    "import torch\n",
    "from typing import List, Dict, Optional\n",
    "import matplotlib.pyplot as plt\n",
    "from tqdm import tqdm\n",
    "import optuna\n",
    "from optuna.pruners import MedianPruner\n",
    "from optuna.exceptions import TrialPruned\n",
    "import warnings"
   ]
  },
  {
   "cell_type": "code",
   "execution_count": 2,
   "metadata": {},
   "outputs": [],
   "source": [
    "sys.path.append('..') \n",
    "\n",
    "from src.models.autoencoder import AutoEncoder\n",
    "from src.models.autoencoder_trainer import *\n",
    "from src.data.data_utils import *\n",
    "\n",
    "device = torch.device('cuda' if torch.cuda.is_available() else 'cpu')"
   ]
  },
  {
   "cell_type": "code",
   "execution_count": 3,
   "metadata": {
    "id": "q5SV28rPnfzI"
   },
   "outputs": [],
   "source": [
    "data_dir = '../NETFLIX_DATA/partitions/train'\n",
    "val_dir = '../NETFLIX_DATA/partitions/validation'\n",
    "checkpoint_dir = '../model_checkpoints'"
   ]
  },
  {
   "cell_type": "code",
   "execution_count": 4,
   "metadata": {
    "colab": {
     "base_uri": "https://localhost:8080/"
    },
    "id": "aN0OQaig8krT",
    "outputId": "fb7c2ba2-b2c0-4df0-87e4-a5368a86de8b"
   },
   "outputs": [
    {
     "name": "stdout",
     "output_type": "stream",
     "text": [
      "Number of training partitions: 34\n",
      "Number of validation partitions: 34\n",
      "Train EX: {'path': '../NETFLIX_DATA/partitions/train/part_1_7.parquet', 'part': 1, 'group': 7}\n",
      "Val EX: {'path': '../NETFLIX_DATA/partitions/validation/part_1_7.parquet', 'part': 1, 'group': 7}\n"
     ]
    }
   ],
   "source": [
    "# retreive training data info\n",
    "train_partition_files = get_data(data_dir)\n",
    "print(f\"Number of training partitions: {len(train_partition_files)}\")\n",
    "val_partition_files = get_data(val_dir)\n",
    "print(f\"Number of validation partitions: {len(val_partition_files)}\")\n",
    "\n",
    "seed = 42\n",
    "random.seed(seed)\n",
    "\n",
    "# testing\n",
    "sample_train_partitions = random.sample(train_partition_files, 1)\n",
    "\n",
    "sample_val_partitions = []\n",
    "for partition in sample_train_partitions:\n",
    "  val_partition = partition.copy()\n",
    "  val_partition['path'] = partition['path'].replace('train', 'validation')\n",
    "  sample_val_partitions.append(val_partition)\n",
    "\n",
    "\n",
    "print(f\"Train EX: {sample_train_partitions[0]}\")\n",
    "print(f\"Val EX: {sample_val_partitions[0]}\")"
   ]
  },
  {
   "cell_type": "code",
   "execution_count": 5,
   "metadata": {
    "colab": {
     "base_uri": "https://localhost:8080/"
    },
    "id": "g_bZtDnAn-kV",
    "outputId": "b122695f-18df-4a89-9a85-6761ebd0ce64"
   },
   "outputs": [
    {
     "name": "stderr",
     "output_type": "stream",
     "text": [
      "Mapping IDs: 100%|██████████| 1/1 [00:00<00:00,  4.16it/s]"
     ]
    },
    {
     "name": "stdout",
     "output_type": "stream",
     "text": [
      "Map successful for 317577 users, 354 movies\n"
     ]
    },
    {
     "name": "stderr",
     "output_type": "stream",
     "text": [
      "\n"
     ]
    }
   ],
   "source": [
    "# build user_map and movie_map\n",
    "user_map, movie_map = map_id(sample_train_partitions)"
   ]
  },
  {
   "cell_type": "code",
   "execution_count": 6,
   "metadata": {},
   "outputs": [
    {
     "name": "stderr",
     "output_type": "stream",
     "text": [
      "Loading user data: 100%|██████████| 1/1 [00:00<00:00,  9.53it/s]\n",
      "Building user rating profiles: 100%|██████████| 317577/317577 [02:20<00:00, 2256.42it/s]\n",
      "Loading user data: 100%|██████████| 1/1 [00:00<00:00, 28.56it/s]\n",
      "Building user rating profiles: 100%|██████████| 71258/71258 [00:13<00:00, 5425.97it/s]\n"
     ]
    }
   ],
   "source": [
    "# preload user rating profiles\n",
    "\n",
    "train_user_data = AutoEncoder.load_user_data(partitions=sample_train_partitions, \n",
    "                                             user_map=user_map)\n",
    "\n",
    "validation_user_data = AutoEncoder.load_user_data(partitions=sample_val_partitions, \n",
    "                                                  user_map=user_map)"
   ]
  },
  {
   "cell_type": "code",
   "execution_count": 7,
   "metadata": {},
   "outputs": [],
   "source": [
    "# optuna objective\n",
    "def objective(trial):\n",
    "    params = {\n",
    "        \"num_epochs\": 5,\n",
    "        \"batch_size\": 512,\n",
    "        \"learning_rate\": trial.suggest_float(\"learning_rate\", 0.0001, 0.001, log=True),\n",
    "        \"hidden_dims\": trial.suggest_categorical(\"hidden_dims\", \n",
    "                                                 [[512,256,128], [256,128], [512,128]]),\n",
    "        \"dropout\": trial.suggest_float(\"dropout\", 0.3, 0.7),\n",
    "        \"l2_reg\": trial.suggest_float(\"l2_reg\", 0.00001, 0.01, log=True),\n",
    "        \"checkpoint_interval\": 5,\n",
    "        \"eval_interval\": 1,\n",
    "    }\n",
    "\n",
    "                #[[512,256,128], [256,128], [512,128]]\n",
    "\n",
    "    try:\n",
    "        model, rmse = train_autoencoder(\n",
    "            train_partitions=sample_train_partitions,\n",
    "            user_map=user_map,\n",
    "            movie_map=movie_map,\n",
    "            validation_partitions=sample_val_partitions,\n",
    "            checkpoint_dir=checkpoint_dir,\n",
    "            trial=trial,\n",
    "            user_data=train_user_data,\n",
    "            validation_data=validation_user_data,\n",
    "            **params\n",
    "        )\n",
    "\n",
    "        return float(rmse)\n",
    "    except optuna.TrialPruned:\n",
    "        raise # reraise prune error for tuning"
   ]
  },
  {
   "cell_type": "code",
   "execution_count": 8,
   "metadata": {
    "colab": {
     "base_uri": "https://localhost:8080/",
     "height": 443
    },
    "id": "eQ5xmua2oCPe",
    "outputId": "97341bfa-9213-4327-c797-d8fdd32f9c89"
   },
   "outputs": [
    {
     "name": "stderr",
     "output_type": "stream",
     "text": [
      "[I 2025-06-02 09:17:46,554] A new study created in RDB with name: autoencoder_tuning\n"
     ]
    },
    {
     "name": "stdout",
     "output_type": "stream",
     "text": [
      "Device: cuda\n"
     ]
    },
    {
     "name": "stderr",
     "output_type": "stream",
     "text": [
      "Calculating global mean: 100%|██████████| 1/1 [00:00<00:00,  8.21it/s]"
     ]
    },
    {
     "name": "stdout",
     "output_type": "stream",
     "text": [
      "Global mean rating: 3.583\n"
     ]
    },
    {
     "name": "stderr",
     "output_type": "stream",
     "text": [
      "\n",
      "Epoch 1/3: 100%|██████████| 311/311 [00:21<00:00, 14.34it/s, loss=1.3305]\n"
     ]
    },
    {
     "name": "stdout",
     "output_type": "stream",
     "text": [
      "Epoch 1 - Average Loss: 3.7559\n",
      "DEBUG: Final - num_batches: 92, total_predictions: 100561\n",
      "DEBUG: loss 0.9830920715694842, rmse 0.987948818008201, mae 0.7829750955523882\n",
      "Validation | Loss: 0.9831, RMSE: 0.9879\n"
     ]
    },
    {
     "name": "stderr",
     "output_type": "stream",
     "text": [
      "Epoch 2/3: 100%|██████████| 311/311 [00:20<00:00, 15.35it/s, loss=1.1669]\n"
     ]
    },
    {
     "name": "stdout",
     "output_type": "stream",
     "text": [
      "Epoch 2 - Average Loss: 1.2822\n",
      "DEBUG: Final - num_batches: 92, total_predictions: 100561\n",
      "DEBUG: loss 0.8947120360706163, rmse 0.9425775280063254, mae 0.7507508517359577\n",
      "Validation | Loss: 0.8947, RMSE: 0.9426\n"
     ]
    },
    {
     "name": "stderr",
     "output_type": "stream",
     "text": [
      "Epoch 3/3: 100%|██████████| 311/311 [00:20<00:00, 15.06it/s, loss=1.1043]\n"
     ]
    },
    {
     "name": "stdout",
     "output_type": "stream",
     "text": [
      "Epoch 3 - Average Loss: 1.1798\n"
     ]
    },
    {
     "name": "stderr",
     "output_type": "stream",
     "text": [
      "[I 2025-06-02 09:19:06,963] Trial 0 finished with value: 0.944735352318519 and parameters: {'learning_rate': 0.00034504886479831817, 'hidden_dims': [128, 64], 'dropout': 0.4328524281461293, 'l2_reg': 3.0715465313408836e-05}. Best is trial 0 with value: 0.944735352318519.\n"
     ]
    },
    {
     "name": "stdout",
     "output_type": "stream",
     "text": [
      "DEBUG: Final - num_batches: 92, total_predictions: 100561\n",
      "DEBUG: loss 0.8989250037981116, rmse 0.944735352318519, mae 0.7568164213516373\n",
      "Validation | Loss: 0.8989, RMSE: 0.9447\n",
      "Saved final model at ../model_checkpoints/final_model.pth.gz\n",
      "Device: cuda\n"
     ]
    },
    {
     "name": "stderr",
     "output_type": "stream",
     "text": [
      "Calculating global mean: 100%|██████████| 1/1 [00:00<00:00,  7.66it/s]\n"
     ]
    },
    {
     "name": "stdout",
     "output_type": "stream",
     "text": [
      "Global mean rating: 3.583\n"
     ]
    },
    {
     "name": "stderr",
     "output_type": "stream",
     "text": [
      "Epoch 1/3: 100%|██████████| 311/311 [00:20<00:00, 15.15it/s, loss=1.3452]\n"
     ]
    },
    {
     "name": "stdout",
     "output_type": "stream",
     "text": [
      "Epoch 1 - Average Loss: 3.5568\n",
      "DEBUG: Final - num_batches: 92, total_predictions: 100561\n",
      "DEBUG: loss 1.0516647171715032, rmse 1.022334470418015, mae 0.8129651361721121\n",
      "Validation | Loss: 1.0517, RMSE: 1.0223\n"
     ]
    },
    {
     "name": "stderr",
     "output_type": "stream",
     "text": [
      "Epoch 2/3: 100%|██████████| 311/311 [00:20<00:00, 14.97it/s, loss=1.3839]\n"
     ]
    },
    {
     "name": "stdout",
     "output_type": "stream",
     "text": [
      "Epoch 2 - Average Loss: 1.3858\n",
      "DEBUG: Final - num_batches: 92, total_predictions: 100561\n",
      "DEBUG: loss 0.9906695232443188, rmse 0.9919896551341109, mae 0.7982776722705925\n",
      "Validation | Loss: 0.9907, RMSE: 0.9920\n"
     ]
    },
    {
     "name": "stderr",
     "output_type": "stream",
     "text": [
      "Epoch 3/3: 100%|██████████| 311/311 [00:19<00:00, 15.77it/s, loss=1.2061]\n"
     ]
    },
    {
     "name": "stdout",
     "output_type": "stream",
     "text": [
      "Epoch 3 - Average Loss: 1.2423\n",
      "DEBUG: Final - num_batches: 92, total_predictions: 100561\n",
      "DEBUG: loss 0.9775777847870536, rmse 0.9853540251685841, mae 0.794346536736603\n",
      "Validation | Loss: 0.9776, RMSE: 0.9854\n",
      "Saved final model at ../model_checkpoints/final_model.pth.gz\n"
     ]
    },
    {
     "name": "stderr",
     "output_type": "stream",
     "text": [
      "[I 2025-06-02 09:20:22,844] Trial 1 finished with value: 0.9853540251685841 and parameters: {'learning_rate': 0.0005152298545546065, 'hidden_dims': [128, 64], 'dropout': 0.5553667813028409, 'l2_reg': 2.6140669424286085e-05}. Best is trial 0 with value: 0.944735352318519.\n"
     ]
    },
    {
     "name": "stdout",
     "output_type": "stream",
     "text": [
      "Device: cuda\n"
     ]
    },
    {
     "name": "stderr",
     "output_type": "stream",
     "text": [
      "Calculating global mean: 100%|██████████| 1/1 [00:00<00:00,  5.13it/s]"
     ]
    },
    {
     "name": "stdout",
     "output_type": "stream",
     "text": [
      "Global mean rating: 3.583\n"
     ]
    },
    {
     "name": "stderr",
     "output_type": "stream",
     "text": [
      "\n",
      "Epoch 1/3: 100%|██████████| 311/311 [00:19<00:00, 15.93it/s, loss=1.5997]\n"
     ]
    },
    {
     "name": "stdout",
     "output_type": "stream",
     "text": [
      "Epoch 1 - Average Loss: 3.9476\n",
      "DEBUG: Final - num_batches: 92, total_predictions: 100561\n",
      "DEBUG: loss 1.1655144432316655, rmse 1.0784262460752958, mae 0.866568843474663\n",
      "Validation | Loss: 1.1655, RMSE: 1.0784\n"
     ]
    },
    {
     "name": "stderr",
     "output_type": "stream",
     "text": [
      "Epoch 2/3: 100%|██████████| 311/311 [00:20<00:00, 15.23it/s, loss=1.3149]\n"
     ]
    },
    {
     "name": "stdout",
     "output_type": "stream",
     "text": [
      "Epoch 2 - Average Loss: 1.4913\n"
     ]
    },
    {
     "name": "stderr",
     "output_type": "stream",
     "text": [
      "[I 2025-06-02 09:21:12,573] Trial 2 pruned. \n"
     ]
    },
    {
     "name": "stdout",
     "output_type": "stream",
     "text": [
      "DEBUG: Final - num_batches: 92, total_predictions: 100561\n",
      "DEBUG: loss 1.0479064778141354, rmse 1.0222274705591397, mae 0.822929079020441\n",
      "Device: cuda\n"
     ]
    },
    {
     "name": "stderr",
     "output_type": "stream",
     "text": [
      "Calculating global mean: 100%|██████████| 1/1 [00:00<00:00, 10.18it/s]\n"
     ]
    },
    {
     "name": "stdout",
     "output_type": "stream",
     "text": [
      "Global mean rating: 3.583\n"
     ]
    },
    {
     "name": "stderr",
     "output_type": "stream",
     "text": [
      "Epoch 1/3: 100%|██████████| 311/311 [00:19<00:00, 15.89it/s, loss=4.4163] \n"
     ]
    },
    {
     "name": "stdout",
     "output_type": "stream",
     "text": [
      "Epoch 1 - Average Loss: 8.7924\n",
      "DEBUG: Final - num_batches: 92, total_predictions: 100561\n",
      "DEBUG: loss 6.294871454653532, rmse 2.334510769206626, mae 2.095570325244494\n",
      "Validation | Loss: 6.2949, RMSE: 2.3345\n"
     ]
    },
    {
     "name": "stderr",
     "output_type": "stream",
     "text": [
      "Epoch 2/3: 100%|██████████| 311/311 [00:20<00:00, 15.00it/s, loss=2.9324]\n"
     ]
    },
    {
     "name": "stdout",
     "output_type": "stream",
     "text": [
      "Epoch 2 - Average Loss: 3.4288\n"
     ]
    },
    {
     "name": "stderr",
     "output_type": "stream",
     "text": [
      "[I 2025-06-02 09:22:02,458] Trial 3 pruned. \n"
     ]
    },
    {
     "name": "stdout",
     "output_type": "stream",
     "text": [
      "DEBUG: Final - num_batches: 92, total_predictions: 100561\n",
      "DEBUG: loss 2.578501185645228, rmse 1.3569629348620862, mae 1.0965442325641621\n",
      "Device: cuda\n"
     ]
    },
    {
     "name": "stderr",
     "output_type": "stream",
     "text": [
      "Calculating global mean: 100%|██████████| 1/1 [00:00<00:00,  7.38it/s]\n"
     ]
    },
    {
     "name": "stdout",
     "output_type": "stream",
     "text": [
      "Global mean rating: 3.583\n"
     ]
    },
    {
     "name": "stderr",
     "output_type": "stream",
     "text": [
      "Epoch 1/3: 100%|██████████| 311/311 [00:20<00:00, 14.88it/s, loss=2.4760]\n"
     ]
    },
    {
     "name": "stdout",
     "output_type": "stream",
     "text": [
      "Epoch 1 - Average Loss: 6.4239\n",
      "DEBUG: Final - num_batches: 92, total_predictions: 100561\n",
      "DEBUG: loss 3.2059603618538897, rmse 1.789200579719088, mae 1.5509571426079138\n",
      "Validation | Loss: 3.2060, RMSE: 1.7892\n"
     ]
    },
    {
     "name": "stderr",
     "output_type": "stream",
     "text": [
      "Epoch 2/3: 100%|██████████| 311/311 [00:20<00:00, 15.06it/s, loss=1.5671]\n"
     ]
    },
    {
     "name": "stdout",
     "output_type": "stream",
     "text": [
      "Epoch 2 - Average Loss: 1.9815\n"
     ]
    },
    {
     "name": "stderr",
     "output_type": "stream",
     "text": [
      "[I 2025-06-02 09:22:53,458] Trial 4 pruned. \n"
     ]
    },
    {
     "name": "stdout",
     "output_type": "stream",
     "text": [
      "DEBUG: Final - num_batches: 92, total_predictions: 100561\n",
      "DEBUG: loss 1.1967748520166979, rmse 1.092114716216632, mae 0.8722747022912323\n",
      "Device: cuda\n"
     ]
    },
    {
     "name": "stderr",
     "output_type": "stream",
     "text": [
      "Calculating global mean: 100%|██████████| 1/1 [00:00<00:00,  7.88it/s]\n"
     ]
    },
    {
     "name": "stdout",
     "output_type": "stream",
     "text": [
      "Global mean rating: 3.583\n"
     ]
    },
    {
     "name": "stderr",
     "output_type": "stream",
     "text": [
      "Epoch 1/3: 100%|██████████| 311/311 [00:20<00:00, 15.47it/s, loss=2.7203]\n"
     ]
    },
    {
     "name": "stdout",
     "output_type": "stream",
     "text": [
      "Epoch 1 - Average Loss: 5.7880\n",
      "DEBUG: Final - num_batches: 92, total_predictions: 100561\n",
      "DEBUG: loss 2.1553056745425514, rmse 1.465342088744428, mae 1.2358801428236879\n",
      "Validation | Loss: 2.1553, RMSE: 1.4653\n"
     ]
    },
    {
     "name": "stderr",
     "output_type": "stream",
     "text": [
      "Epoch 2/3: 100%|██████████| 311/311 [00:20<00:00, 15.08it/s, loss=1.8833]\n"
     ]
    },
    {
     "name": "stdout",
     "output_type": "stream",
     "text": [
      "Epoch 2 - Average Loss: 2.0756\n"
     ]
    },
    {
     "name": "stderr",
     "output_type": "stream",
     "text": [
      "[I 2025-06-02 09:23:43,849] Trial 5 pruned. \n"
     ]
    },
    {
     "name": "stdout",
     "output_type": "stream",
     "text": [
      "DEBUG: Final - num_batches: 92, total_predictions: 100561\n",
      "DEBUG: loss 1.2795620742051497, rmse 1.1278997278467995, mae 0.9054297533686181\n",
      "Device: cuda\n"
     ]
    },
    {
     "name": "stderr",
     "output_type": "stream",
     "text": [
      "Calculating global mean: 100%|██████████| 1/1 [00:00<00:00,  7.45it/s]"
     ]
    },
    {
     "name": "stdout",
     "output_type": "stream",
     "text": [
      "Global mean rating: 3.583\n"
     ]
    },
    {
     "name": "stderr",
     "output_type": "stream",
     "text": [
      "\n",
      "Epoch 1/3: 100%|██████████| 311/311 [00:21<00:00, 14.57it/s, loss=1.5230]\n"
     ]
    },
    {
     "name": "stdout",
     "output_type": "stream",
     "text": [
      "Epoch 1 - Average Loss: 3.6705\n",
      "DEBUG: Final - num_batches: 92, total_predictions: 100561\n",
      "DEBUG: loss 1.271733265856038, rmse 1.0046217971902565, mae 0.786093086924457\n",
      "Validation | Loss: 1.2717, RMSE: 1.0046\n"
     ]
    },
    {
     "name": "stderr",
     "output_type": "stream",
     "text": [
      "Epoch 2/3: 100%|██████████| 311/311 [00:19<00:00, 16.07it/s, loss=1.3546]\n"
     ]
    },
    {
     "name": "stdout",
     "output_type": "stream",
     "text": [
      "Epoch 2 - Average Loss: 1.4161\n"
     ]
    },
    {
     "name": "stderr",
     "output_type": "stream",
     "text": [
      "[I 2025-06-02 09:24:34,259] Trial 6 pruned. \n"
     ]
    },
    {
     "name": "stdout",
     "output_type": "stream",
     "text": [
      "DEBUG: Final - num_batches: 92, total_predictions: 100561\n",
      "DEBUG: loss 1.1787229050760684, rmse 0.9812964433961257, mae 0.7733497704737755\n",
      "Device: cuda\n"
     ]
    },
    {
     "name": "stderr",
     "output_type": "stream",
     "text": [
      "Calculating global mean: 100%|██████████| 1/1 [00:00<00:00,  8.40it/s]"
     ]
    },
    {
     "name": "stdout",
     "output_type": "stream",
     "text": [
      "Global mean rating: 3.583\n"
     ]
    },
    {
     "name": "stderr",
     "output_type": "stream",
     "text": [
      "\n",
      "Epoch 1/3: 100%|██████████| 311/311 [00:21<00:00, 14.17it/s, loss=1.3201]\n"
     ]
    },
    {
     "name": "stdout",
     "output_type": "stream",
     "text": [
      "Epoch 1 - Average Loss: 2.6520\n",
      "DEBUG: Final - num_batches: 92, total_predictions: 100561\n",
      "DEBUG: loss 1.0153481286504995, rmse 0.9758140199787945, mae 0.7801277363336242\n",
      "Validation | Loss: 1.0153, RMSE: 0.9758\n"
     ]
    },
    {
     "name": "stderr",
     "output_type": "stream",
     "text": [
      "Epoch 2/3: 100%|██████████| 311/311 [00:19<00:00, 16.17it/s, loss=1.1754]\n"
     ]
    },
    {
     "name": "stdout",
     "output_type": "stream",
     "text": [
      "Epoch 2 - Average Loss: 1.2353\n",
      "DEBUG: Final - num_batches: 92, total_predictions: 100561\n",
      "DEBUG: loss 0.9904710203409195, rmse 0.9625994599913547, mae 0.7669571674749329\n",
      "Validation | Loss: 0.9905, RMSE: 0.9626\n"
     ]
    },
    {
     "name": "stderr",
     "output_type": "stream",
     "text": [
      "Epoch 3/3: 100%|██████████| 311/311 [00:20<00:00, 15.23it/s, loss=1.0924]\n"
     ]
    },
    {
     "name": "stdout",
     "output_type": "stream",
     "text": [
      "Epoch 3 - Average Loss: 1.1478\n"
     ]
    },
    {
     "name": "stderr",
     "output_type": "stream",
     "text": [
      "[I 2025-06-02 09:25:50,771] Trial 7 finished with value: 0.9446336096232201 and parameters: {'learning_rate': 0.0009560093645864017, 'hidden_dims': [128, 64], 'dropout': 0.4909998063083557, 'l2_reg': 0.0002766435018640519}. Best is trial 7 with value: 0.9446336096232201.\n"
     ]
    },
    {
     "name": "stdout",
     "output_type": "stream",
     "text": [
      "DEBUG: Final - num_batches: 92, total_predictions: 100561\n",
      "DEBUG: loss 0.9581321400144825, rmse 0.9446336096232201, mae 0.7509628027172833\n",
      "Validation | Loss: 0.9581, RMSE: 0.9446\n",
      "Saved final model at ../model_checkpoints/final_model.pth.gz\n",
      "Device: cuda\n"
     ]
    },
    {
     "name": "stderr",
     "output_type": "stream",
     "text": [
      "Calculating global mean: 100%|██████████| 1/1 [00:00<00:00,  6.91it/s]"
     ]
    },
    {
     "name": "stdout",
     "output_type": "stream",
     "text": [
      "Global mean rating: 3.583\n"
     ]
    },
    {
     "name": "stderr",
     "output_type": "stream",
     "text": [
      "\n",
      "Epoch 1/3: 100%|██████████| 311/311 [00:19<00:00, 15.84it/s, loss=1.7313]\n"
     ]
    },
    {
     "name": "stdout",
     "output_type": "stream",
     "text": [
      "Epoch 1 - Average Loss: 3.0399\n",
      "DEBUG: Final - num_batches: 92, total_predictions: 100561\n",
      "DEBUG: loss 1.3974514836850374, rmse 1.034490560351379, mae 0.8098144881085955\n",
      "Validation | Loss: 1.3975, RMSE: 1.0345\n"
     ]
    },
    {
     "name": "stderr",
     "output_type": "stream",
     "text": [
      "Epoch 2/3: 100%|██████████| 311/311 [00:19<00:00, 15.67it/s, loss=1.3555]\n"
     ]
    },
    {
     "name": "stdout",
     "output_type": "stream",
     "text": [
      "Epoch 2 - Average Loss: 1.4026\n"
     ]
    },
    {
     "name": "stderr",
     "output_type": "stream",
     "text": [
      "[I 2025-06-02 09:26:40,054] Trial 8 pruned. \n"
     ]
    },
    {
     "name": "stdout",
     "output_type": "stream",
     "text": [
      "DEBUG: Final - num_batches: 92, total_predictions: 100561\n",
      "DEBUG: loss 1.3012506624926692, rmse 1.0285760007761926, mae 0.8072015794951295\n",
      "Device: cuda\n"
     ]
    },
    {
     "name": "stderr",
     "output_type": "stream",
     "text": [
      "Calculating global mean: 100%|██████████| 1/1 [00:00<00:00,  7.71it/s]\n"
     ]
    },
    {
     "name": "stdout",
     "output_type": "stream",
     "text": [
      "Global mean rating: 3.583\n"
     ]
    },
    {
     "name": "stderr",
     "output_type": "stream",
     "text": [
      "Epoch 1/3: 100%|██████████| 311/311 [00:20<00:00, 15.05it/s, loss=2.3507]\n"
     ]
    },
    {
     "name": "stdout",
     "output_type": "stream",
     "text": [
      "Epoch 1 - Average Loss: 6.5927\n",
      "DEBUG: Final - num_batches: 92, total_predictions: 100561\n",
      "DEBUG: loss 2.596964957921401, rmse 1.59963049616769, mae 1.3640244320695716\n",
      "Validation | Loss: 2.5970, RMSE: 1.5996\n"
     ]
    },
    {
     "name": "stderr",
     "output_type": "stream",
     "text": [
      "Epoch 2/3: 100%|██████████| 311/311 [00:19<00:00, 15.75it/s, loss=1.8408]\n"
     ]
    },
    {
     "name": "stdout",
     "output_type": "stream",
     "text": [
      "Epoch 2 - Average Loss: 2.0834\n"
     ]
    },
    {
     "name": "stderr",
     "output_type": "stream",
     "text": [
      "[I 2025-06-02 09:27:30,258] Trial 9 pruned. \n"
     ]
    },
    {
     "name": "stdout",
     "output_type": "stream",
     "text": [
      "DEBUG: Final - num_batches: 92, total_predictions: 100561\n",
      "DEBUG: loss 1.318318934544273, rmse 1.1317986374580662, mae 0.9118149209433396\n"
     ]
    }
   ],
   "source": [
    "# tuning\n",
    "warnings.filterwarnings(\"ignore\", module=\"optuna.*\")\n",
    "\n",
    "study = optuna.create_study(\n",
    "    study_name=\"autoencoder_tuning\", \n",
    "    direction='minimize',\n",
    "    \n",
    "    # prune after 2 trials, after 1 if really bad\n",
    "    pruner=MedianPruner(n_startup_trials=2, n_warmup_steps=1),\n",
    "    \n",
    "    sampler=optuna.samplers.TPESampler(),\n",
    "    storage=\"sqlite:///optuna_study.db\",\n",
    "    load_if_exists=True\n",
    ")\n",
    "\n",
    "study.optimize(objective, n_trials=10, timeout=2*3600)"
   ]
  },
  {
   "cell_type": "code",
   "execution_count": 9,
   "metadata": {},
   "outputs": [
    {
     "name": "stdout",
     "output_type": "stream",
     "text": [
      "Best trial\n",
      "RMSE: 0.9446\n",
      "Params: {'learning_rate': 0.0009560093645864017, 'hidden_dims': [128, 64], 'dropout': 0.4909998063083557, 'l2_reg': 0.0002766435018640519}\n"
     ]
    }
   ],
   "source": [
    "print(\"Best trial\")\n",
    "print(f\"RMSE: {study.best_value:.4f}\")\n",
    "print(f\"Params: {study.best_params}\")"
   ]
  },
  {
   "cell_type": "code",
   "execution_count": null,
   "metadata": {},
   "outputs": [],
   "source": []
  }
 ],
 "metadata": {
  "colab": {
   "provenance": []
  },
  "kernelspec": {
   "display_name": "Python 3 (ipykernel)",
   "language": "python",
   "name": "python3"
  },
  "language_info": {
   "codemirror_mode": {
    "name": "ipython",
    "version": 3
   },
   "file_extension": ".py",
   "mimetype": "text/x-python",
   "name": "python",
   "nbconvert_exporter": "python",
   "pygments_lexer": "ipython3",
   "version": "3.11.9"
  }
 },
 "nbformat": 4,
 "nbformat_minor": 4
}
