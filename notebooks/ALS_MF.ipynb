{
 "cells": [
  {
   "cell_type": "code",
   "execution_count": 6,
   "metadata": {
    "id": "rURDXNXX7Zsl"
   },
   "outputs": [],
   "source": [
    "import numpy as np\n",
    "import pandas as pd\n",
    "import os\n",
    "import re\n",
    "import random\n",
    "from typing import List, Dict\n",
    "from scipy.sparse import csr_matrix\n",
    "import matplotlib.pyplot as plt\n",
    "from tqdm import tqdm\n",
    "import sys"
   ]
  },
  {
   "cell_type": "code",
   "execution_count": 7,
   "metadata": {},
   "outputs": [],
   "source": [
    "sys.path.append('..') \n",
    "\n",
    "from src.models.als import ALS\n",
    "from src.data.data_utils import *"
   ]
  },
  {
   "cell_type": "code",
   "execution_count": 2,
   "metadata": {
    "colab": {
     "base_uri": "https://localhost:8080/"
    },
    "id": "R8IYzXFL7rEe",
    "outputId": "3097e9ea-5f42-486d-c77f-f05d3ce08202"
   },
   "outputs": [
    {
     "name": "stdout",
     "output_type": "stream",
     "text": [
      "Drive already mounted at /gdrive; to attempt to forcibly remount, call drive.mount(\"/gdrive\", force_remount=True).\n"
     ]
    }
   ],
   "source": [
    "from google.colab import drive\n",
    "drive.mount('/gdrive')"
   ]
  },
  {
   "cell_type": "code",
   "execution_count": 17,
   "metadata": {
    "id": "VyHhWbLK2RGX"
   },
   "outputs": [],
   "source": [
    "def evaluate_model(model, validation_partitions):\n",
    "    \"\"\"Evaluate ALS model on validation partitions\"\"\"\n",
    "    all_errors = []\n",
    "\n",
    "    for partition in tqdm(validation_partitions, desc=\"Evaluating validation partitions\"):\n",
    "\n",
    "        df = pd.read_parquet(partition['path'], columns=['user_id', 'movie_id', 'rating'])\n",
    "\n",
    "        predictions = model.batch_predict(df)\n",
    "\n",
    "        errors = (predictions - df['rating'].values) ** 2\n",
    "        all_errors.extend(errors)\n",
    "\n",
    "    rmse = np.sqrt(np.mean(all_errors))\n",
    "    print(f\"Validation RMSE: {rmse:.4f}\")\n",
    "\n",
    "    return rmse"
   ]
  },
  {
   "cell_type": "code",
   "execution_count": 9,
   "metadata": {
    "id": "OnO6zkZO1n-U"
   },
   "outputs": [],
   "source": [
    "def get_model_save_path(dir):\n",
    "  i = 1\n",
    "  while True:\n",
    "    save_path = os.path.join(dir, f'model_{i}.pkl')\n",
    "    if not os.path.exists(save_path):\n",
    "      return save_path\n",
    "    i += 1"
   ]
  },
  {
   "cell_type": "code",
   "execution_count": 7,
   "metadata": {
    "id": "7jrnU7vB7rEf"
   },
   "outputs": [],
   "source": [
    "data_dir = '/gdrive/MyDrive/Netflix_Prize/split/train'\n",
    "output_dir = '/gdrive/MyDrive/Netflix_Prize/results'\n",
    "val_dir = '/gdrive/MyDrive/Netflix_Prize/split/validation'\n",
    "checkpoint_dir = '/gdrive/MyDrive/Netflix_Prize/checkpoints'"
   ]
  },
  {
   "cell_type": "code",
   "execution_count": 8,
   "metadata": {
    "colab": {
     "base_uri": "https://localhost:8080/"
    },
    "id": "1mtb8sOy7x7v",
    "outputId": "6ec8b2c3-ed60-48d9-c2bb-804ad0b315a8"
   },
   "outputs": [
    {
     "name": "stdout",
     "output_type": "stream",
     "text": [
      "Number of training partitions: 34\n",
      "Number of validation partitions: 34\n",
      "Train EX: {'path': '/gdrive/MyDrive/Netflix_Prize/split/train/part_1_7.parquet', 'part': 1, 'group': 7}\n",
      "Val EX: {'path': '/gdrive/MyDrive/Netflix_Prize/split/validation/part_1_7.parquet', 'part': 1, 'group': 7}\n"
     ]
    }
   ],
   "source": [
    "# retreive training data info\n",
    "train_partition_files = get_data(data_dir)\n",
    "print(f\"Number of training partitions: {len(train_partition_files)}\")\n",
    "val_partition_files = get_data(val_dir)\n",
    "print(f\"Number of validation partitions: {len(val_partition_files)}\")\n",
    "\n",
    "seed = 42\n",
    "random.seed(seed)\n",
    "\n",
    "# testing\n",
    "sample_train_partitions = random.sample(train_partition_files, 7)\n",
    "\n",
    "sample_val_partitions = []\n",
    "for partition in sample_train_partitions:\n",
    "  val_partition = partition.copy()\n",
    "  val_partition['path'] = partition['path'].replace('train', 'validation')\n",
    "  sample_val_partitions.append(val_partition)\n",
    "\n",
    "\n",
    "print(f\"Train EX: {sample_train_partitions[0]}\")\n",
    "print(f\"Val EX: {sample_val_partitions[0]}\")"
   ]
  },
  {
   "cell_type": "code",
   "execution_count": 9,
   "metadata": {
    "colab": {
     "base_uri": "https://localhost:8080/"
    },
    "id": "tYFStOmKVWfB",
    "outputId": "a783ad56-eddd-42c3-964d-13d7a4ed6457"
   },
   "outputs": [
    {
     "name": "stderr",
     "output_type": "stream",
     "text": [
      "Mapping IDs: 100%|██████████| 7/7 [00:06<00:00,  1.07it/s]\n"
     ]
    },
    {
     "name": "stdout",
     "output_type": "stream",
     "text": [
      "Map successful for 431670 users, 3720 movies\n"
     ]
    }
   ],
   "source": [
    "# build user_map and movie_map\n",
    "user_map, movie_map = map_id(sample_train_partitions)"
   ]
  },
  {
   "cell_type": "code",
   "execution_count": 10,
   "metadata": {
    "id": "S332c5EtBu2E"
   },
   "outputs": [],
   "source": [
    "# 7 each as a test + for tuning\n",
    "train_partitions = sample_train_partitions\n",
    "val_partitions = sample_val_partitions"
   ]
  },
  {
   "cell_type": "code",
   "execution_count": 13,
   "metadata": {
    "id": "VldOi7wgxNN6"
   },
   "outputs": [],
   "source": [
    "# Tuning grid\n",
    "param_grid = {\n",
    "    'num_factors': [10, 25, 50],\n",
    "    'lambda_reg': [0.1, 1],\n",
    "    'num_iters': [15, 20]\n",
    "}"
   ]
  },
  {
   "cell_type": "code",
   "execution_count": 12,
   "metadata": {
    "colab": {
     "base_uri": "https://localhost:8080/"
    },
    "id": "nXdMIjcAC8nx",
    "outputId": "28e9dca2-bd49-4f79-e4c5-cb326f192d74"
   },
   "outputs": [
    {
     "name": "stdout",
     "output_type": "stream",
     "text": [
      "Building sparse matrices for 431670 users, and 3720 movies\n"
     ]
    },
    {
     "name": "stderr",
     "output_type": "stream",
     "text": [
      "Building sparse matrix: 100%|██████████| 7/7 [01:23<00:00, 11.89s/it]\n",
      "ALS Optimization:  27%|██▋       | 4/15 [11:55<32:56, 179.67s/it]"
     ]
    },
    {
     "name": "stdout",
     "output_type": "stream",
     "text": [
      "\n",
      "Saved checkpoint to /gdrive/MyDrive/Netflix_Prize/checkpoints/checkpoint_5.npz, in 11.142310380935669 seconds\n"
     ]
    },
    {
     "name": "stderr",
     "output_type": "stream",
     "text": [
      "\r",
      "ALS Optimization:  33%|███▎      | 5/15 [15:04<30:33, 183.34s/it]"
     ]
    },
    {
     "name": "stdout",
     "output_type": "stream",
     "text": [
      "\n",
      "Iteration 5 -- RMSE: 0.5020\n"
     ]
    },
    {
     "name": "stderr",
     "output_type": "stream",
     "text": [
      "ALS Optimization:  60%|██████    | 9/15 [27:02<18:00, 180.16s/it]"
     ]
    },
    {
     "name": "stdout",
     "output_type": "stream",
     "text": [
      "\n",
      "Saved checkpoint to /gdrive/MyDrive/Netflix_Prize/checkpoints/checkpoint_10.npz, in 10.830766201019287 seconds\n"
     ]
    },
    {
     "name": "stderr",
     "output_type": "stream",
     "text": [
      "\r",
      "ALS Optimization:  67%|██████▋   | 10/15 [30:13<15:17, 183.59s/it]"
     ]
    },
    {
     "name": "stdout",
     "output_type": "stream",
     "text": [
      "\n",
      "Iteration 10 -- RMSE: 0.4755\n"
     ]
    },
    {
     "name": "stderr",
     "output_type": "stream",
     "text": [
      "ALS Optimization:  93%|█████████▎| 14/15 [41:56<02:57, 177.36s/it]"
     ]
    },
    {
     "name": "stdout",
     "output_type": "stream",
     "text": [
      "\n",
      "Saved checkpoint to /gdrive/MyDrive/Netflix_Prize/checkpoints/checkpoint_15.npz, in 11.345720529556274 seconds\n"
     ]
    },
    {
     "name": "stderr",
     "output_type": "stream",
     "text": [
      "ALS Optimization: 100%|██████████| 15/15 [45:06<00:00, 180.46s/it]"
     ]
    },
    {
     "name": "stdout",
     "output_type": "stream",
     "text": [
      "\n",
      "Iteration 15 -- RMSE: 0.4666\n"
     ]
    },
    {
     "name": "stderr",
     "output_type": "stream",
     "text": [
      "\n"
     ]
    },
    {
     "name": "stdout",
     "output_type": "stream",
     "text": [
      "\n",
      "Trained Model saved at /gdrive/MyDrive/Netflix_Prize/results/model_1.pkl, in 12.369998216629028 seconds\n"
     ]
    },
    {
     "name": "stderr",
     "output_type": "stream",
     "text": [
      "Evaluating validation partitions: 100%|██████████| 7/7 [00:11<00:00,  1.65s/it]\n"
     ]
    },
    {
     "name": "stdout",
     "output_type": "stream",
     "text": [
      "Validation RMSE: 1.6540\n"
     ]
    }
   ],
   "source": [
    "# init model - small test values\n",
    "\n",
    "model = ALS(\n",
    "    num_factors=50,\n",
    "    lambda_reg=0.1,\n",
    "    num_iters=15,\n",
    "    val_interval=5\n",
    ")\n",
    "\n",
    "model.fit(\n",
    "    partitions=train_partitions,\n",
    "    user_map=user_map,\n",
    "    movie_map=movie_map,\n",
    "    checkpoint_dir=checkpoint_dir\n",
    ")\n",
    "\n",
    "model.save_model(get_model_save_path(output_dir))\n",
    "\n",
    "val_rmse = evaluate_model(model, val_partitions)"
   ]
  },
  {
   "cell_type": "code",
   "execution_count": 11,
   "metadata": {},
   "outputs": [
    {
     "name": "stdout",
     "output_type": "stream",
     "text": [
      "Train EX: {'path': '../NETFLIX_DATA/partitions/train/part_1_7.parquet', 'part': 1, 'group': 7}\n",
      "Val EX: {'path': '../NETFLIX_DATA/partitions/validation/part_1_7.parquet', 'part': 1, 'group': 7}\n"
     ]
    }
   ],
   "source": [
    "# retreive full training data info\n",
    "data_dir = '../NETFLIX_DATA/partitions/train'\n",
    "val_dir = '../NETFLIX_DATA/partitions/validation'\n",
    "\n",
    "train_partition_files = get_data(data_dir)\n",
    "val_partition_files = get_data(val_dir)\n",
    "\n",
    "random.seed(42)\n",
    "\n",
    "full_train_partitions = random.sample(train_partition_files, 7)\n",
    "\n",
    "full_val_partitions = []\n",
    "for partition in full_train_partitions:\n",
    "  val_partition = partition.copy()\n",
    "  val_partition['path'] = partition['path'].replace('train', 'validation')\n",
    "  full_val_partitions.append(val_partition)\n",
    "\n",
    "\n",
    "print(f\"Train EX: {full_train_partitions[0]}\")\n",
    "print(f\"Val EX: {full_val_partitions[0]}\")"
   ]
  },
  {
   "cell_type": "code",
   "execution_count": 12,
   "metadata": {},
   "outputs": [
    {
     "name": "stderr",
     "output_type": "stream",
     "text": [
      "Mapping IDs: 100%|██████████| 7/7 [00:01<00:00,  4.43it/s]"
     ]
    },
    {
     "name": "stdout",
     "output_type": "stream",
     "text": [
      "Map successful for 431670 users, 3720 movies\n"
     ]
    },
    {
     "name": "stderr",
     "output_type": "stream",
     "text": [
      "\n"
     ]
    }
   ],
   "source": [
    "user_map, movie_map = map_id(full_train_partitions)"
   ]
  },
  {
   "cell_type": "code",
   "execution_count": 13,
   "metadata": {},
   "outputs": [
    {
     "name": "stdout",
     "output_type": "stream",
     "text": [
      "Test set size: 1,408,395 ratings\n"
     ]
    }
   ],
   "source": [
    "# load test set\n",
    "test_path = \"../NETFLIX_DATA/test.parquet\"\n",
    "\n",
    "test_df = pd.read_parquet(test_path)\n",
    "print(f\"Test set size: {len(test_df):,} ratings\")"
   ]
  },
  {
   "cell_type": "code",
   "execution_count": 14,
   "metadata": {},
   "outputs": [
    {
     "name": "stdout",
     "output_type": "stream",
     "text": [
      "Loading model from ../model_checkpoints/ALS/model_1.pkl.npz\n"
     ]
    }
   ],
   "source": [
    "model_path = \"../model_checkpoints/ALS/model_1.pkl.npz\"\n",
    "\n",
    "model = ALS.load_model(model_path, user_map, movie_map)\n",
    "\n",
    "predictions = model.batch_predict(test_df)"
   ]
  },
  {
   "cell_type": "code",
   "execution_count": 20,
   "metadata": {},
   "outputs": [
    {
     "name": "stderr",
     "output_type": "stream",
     "text": [
      "Evaluating validation partitions: 100%|██████████| 7/7 [00:02<00:00,  2.59it/s]"
     ]
    },
    {
     "name": "stdout",
     "output_type": "stream",
     "text": [
      "Validation RMSE: 1.6540\n",
      "Test RMSE: 1.4698\n"
     ]
    },
    {
     "name": "stderr",
     "output_type": "stream",
     "text": [
      "\n"
     ]
    }
   ],
   "source": [
    "errors = (predictions - test_df['rating'].values) ** 2\n",
    "rmse = np.sqrt(np.mean(errors))\n",
    "\n",
    "evaluate_model(model, full_val_partitions)\n",
    "print(f\"Test RMSE: {rmse:.4f}\")"
   ]
  },
  {
   "cell_type": "code",
   "execution_count": null,
   "metadata": {},
   "outputs": [],
   "source": []
  }
 ],
 "metadata": {
  "colab": {
   "authorship_tag": "ABX9TyMcVJzlL1q/PtEWo24zSirL",
   "provenance": []
  },
  "kernelspec": {
   "display_name": "Python 3 (ipykernel)",
   "language": "python",
   "name": "python3"
  },
  "language_info": {
   "codemirror_mode": {
    "name": "ipython",
    "version": 3
   },
   "file_extension": ".py",
   "mimetype": "text/x-python",
   "name": "python",
   "nbconvert_exporter": "python",
   "pygments_lexer": "ipython3",
   "version": "3.11.9"
  }
 },
 "nbformat": 4,
 "nbformat_minor": 4
}
