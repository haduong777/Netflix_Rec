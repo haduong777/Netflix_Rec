{
  "cells": [
    {
      "cell_type": "markdown",
      "id": "86419c73-008e-463b-b2a1-60c3012c468d",
      "metadata": {
        "id": "86419c73-008e-463b-b2a1-60c3012c468d"
      },
      "source": [
        "# <b>EDA (SUBSET 1/4)</b>"
      ]
    },
    {
      "cell_type": "code",
      "execution_count": 1,
      "id": "76142e66-1746-4fa2-b1ac-8ab1943a0407",
      "metadata": {
        "id": "76142e66-1746-4fa2-b1ac-8ab1943a0407"
      },
      "outputs": [],
      "source": [
        "import pandas as pd\n",
        "import csv\n",
        "from google.colab import drive\n",
        "import matplotlib.pyplot as plt\n",
        "import seaborn as sns"
      ]
    },
    {
      "cell_type": "code",
      "source": [
        "drive.mount('/content/drive')"
      ],
      "metadata": {
        "colab": {
          "base_uri": "https://localhost:8080/"
        },
        "id": "QhPdh7IWm-4X",
        "outputId": "8ccab209-514f-48be-d550-7033690de7f8"
      },
      "id": "QhPdh7IWm-4X",
      "execution_count": 2,
      "outputs": [
        {
          "output_type": "stream",
          "name": "stdout",
          "text": [
            "Drive already mounted at /content/drive; to attempt to forcibly remount, call drive.mount(\"/content/drive\", force_remount=True).\n"
          ]
        }
      ]
    },
    {
      "cell_type": "markdown",
      "id": "7762af24-b362-4e03-aa35-6c19d16b13bf",
      "metadata": {
        "id": "7762af24-b362-4e03-aa35-6c19d16b13bf"
      },
      "source": [
        "### Data preparation\n",
        "\n",
        "The netflix data is split into 4 files: combined_data_X.txt\n",
        "\n",
        "The data is formatted as such:\n",
        "\n",
        "movie_id_1: \\\n",
        "user1, rating, date\\\n",
        "user2, rating, date\\\n",
        "...\n",
        "\n",
        "movie_id_2:\\\n",
        "user1, rating, date\\\n",
        "user2, rating, date\\\n",
        "...\n",
        "\n",
        "movie_id_X:\\\n",
        "userX, rating, date\\\n",
        "userY rating, date\\\n",
        "...\n",
        "\n",
        "From this raw data, we turn this into a flat Pandas Dataframe, with each row being one observation (1 rating).\n",
        "\n",
        "Our movie titles are provided in movie_titles.csv; however, some of the titles contain one or more commas which is causing parsing issues with the csv. We won't be able to parse it with pd.read_csv, instead we'll parse it line by line"
      ]
    },
    {
      "cell_type": "code",
      "source": [
        "df_raw = pd.read_parquet('/content/drive/MyDrive/Netflix_Prize/combined_data_1.parquet')"
      ],
      "metadata": {
        "id": "JR5sc1tBrYCB"
      },
      "id": "JR5sc1tBrYCB",
      "execution_count": 3,
      "outputs": []
    },
    {
      "cell_type": "code",
      "execution_count": 4,
      "id": "02cff4c8-e5a2-4c1f-82e2-2e058fb9c952",
      "metadata": {
        "id": "02cff4c8-e5a2-4c1f-82e2-2e058fb9c952"
      },
      "outputs": [],
      "source": [
        "df = df_raw.drop('index', axis=1)"
      ]
    },
    {
      "cell_type": "code",
      "execution_count": 5,
      "id": "b3a3ab1d-0852-4c3c-9324-eb544326f665",
      "metadata": {
        "colab": {
          "base_uri": "https://localhost:8080/",
          "height": 424
        },
        "id": "b3a3ab1d-0852-4c3c-9324-eb544326f665",
        "outputId": "51d54201-af6b-43f9-fea6-b90ab6a9a81a"
      },
      "outputs": [
        {
          "output_type": "execute_result",
          "data": {
            "text/plain": [
              "          user_id  rating       date  movie_id\n",
              "0         1488844     3.0 2005-09-06         1\n",
              "1          822109     5.0 2005-05-13         1\n",
              "2          885013     4.0 2005-10-19         1\n",
              "3           30878     4.0 2005-12-26         1\n",
              "4          823519     3.0 2004-05-03         1\n",
              "...           ...     ...        ...       ...\n",
              "24053759  2591364     2.0 2005-02-16      4499\n",
              "24053760  1791000     2.0 2005-02-10      4499\n",
              "24053761   512536     5.0 2005-07-27      4499\n",
              "24053762   988963     3.0 2005-12-20      4499\n",
              "24053763  1704416     3.0 2004-06-02      4499\n",
              "\n",
              "[24053764 rows x 4 columns]"
            ],
            "text/html": [
              "<div>\n",
              "<style scoped>\n",
              "    .dataframe tbody tr th:only-of-type {\n",
              "        vertical-align: middle;\n",
              "    }\n",
              "\n",
              "    .dataframe tbody tr th {\n",
              "        vertical-align: top;\n",
              "    }\n",
              "\n",
              "    .dataframe thead th {\n",
              "        text-align: right;\n",
              "    }\n",
              "</style>\n",
              "<table border=\"1\" class=\"dataframe\">\n",
              "  <thead>\n",
              "    <tr style=\"text-align: right;\">\n",
              "      <th></th>\n",
              "      <th>user_id</th>\n",
              "      <th>rating</th>\n",
              "      <th>date</th>\n",
              "      <th>movie_id</th>\n",
              "    </tr>\n",
              "  </thead>\n",
              "  <tbody>\n",
              "    <tr>\n",
              "      <th>0</th>\n",
              "      <td>1488844</td>\n",
              "      <td>3.0</td>\n",
              "      <td>2005-09-06</td>\n",
              "      <td>1</td>\n",
              "    </tr>\n",
              "    <tr>\n",
              "      <th>1</th>\n",
              "      <td>822109</td>\n",
              "      <td>5.0</td>\n",
              "      <td>2005-05-13</td>\n",
              "      <td>1</td>\n",
              "    </tr>\n",
              "    <tr>\n",
              "      <th>2</th>\n",
              "      <td>885013</td>\n",
              "      <td>4.0</td>\n",
              "      <td>2005-10-19</td>\n",
              "      <td>1</td>\n",
              "    </tr>\n",
              "    <tr>\n",
              "      <th>3</th>\n",
              "      <td>30878</td>\n",
              "      <td>4.0</td>\n",
              "      <td>2005-12-26</td>\n",
              "      <td>1</td>\n",
              "    </tr>\n",
              "    <tr>\n",
              "      <th>4</th>\n",
              "      <td>823519</td>\n",
              "      <td>3.0</td>\n",
              "      <td>2004-05-03</td>\n",
              "      <td>1</td>\n",
              "    </tr>\n",
              "    <tr>\n",
              "      <th>...</th>\n",
              "      <td>...</td>\n",
              "      <td>...</td>\n",
              "      <td>...</td>\n",
              "      <td>...</td>\n",
              "    </tr>\n",
              "    <tr>\n",
              "      <th>24053759</th>\n",
              "      <td>2591364</td>\n",
              "      <td>2.0</td>\n",
              "      <td>2005-02-16</td>\n",
              "      <td>4499</td>\n",
              "    </tr>\n",
              "    <tr>\n",
              "      <th>24053760</th>\n",
              "      <td>1791000</td>\n",
              "      <td>2.0</td>\n",
              "      <td>2005-02-10</td>\n",
              "      <td>4499</td>\n",
              "    </tr>\n",
              "    <tr>\n",
              "      <th>24053761</th>\n",
              "      <td>512536</td>\n",
              "      <td>5.0</td>\n",
              "      <td>2005-07-27</td>\n",
              "      <td>4499</td>\n",
              "    </tr>\n",
              "    <tr>\n",
              "      <th>24053762</th>\n",
              "      <td>988963</td>\n",
              "      <td>3.0</td>\n",
              "      <td>2005-12-20</td>\n",
              "      <td>4499</td>\n",
              "    </tr>\n",
              "    <tr>\n",
              "      <th>24053763</th>\n",
              "      <td>1704416</td>\n",
              "      <td>3.0</td>\n",
              "      <td>2004-06-02</td>\n",
              "      <td>4499</td>\n",
              "    </tr>\n",
              "  </tbody>\n",
              "</table>\n",
              "<p>24053764 rows × 4 columns</p>\n",
              "</div>"
            ],
            "application/vnd.google.colaboratory.intrinsic+json": {
              "type": "dataframe",
              "variable_name": "df"
            }
          },
          "metadata": {},
          "execution_count": 5
        }
      ],
      "source": [
        "# small subset of 4499 movies (1/4 of the entire data)\n",
        "df"
      ]
    },
    {
      "cell_type": "code",
      "execution_count": 6,
      "id": "3d099407-4f25-4afc-981d-e4b25b1621b6",
      "metadata": {
        "colab": {
          "base_uri": "https://localhost:8080/",
          "height": 206
        },
        "id": "3d099407-4f25-4afc-981d-e4b25b1621b6",
        "outputId": "86af5bf8-8cde-4190-e687-3d16e6df0131"
      },
      "outputs": [
        {
          "output_type": "execute_result",
          "data": {
            "text/plain": [
              "   user_id  rating       date  movie_id\n",
              "0  1488844     3.0 2005-09-06         1\n",
              "1   822109     5.0 2005-05-13         1\n",
              "2   885013     4.0 2005-10-19         1\n",
              "3    30878     4.0 2005-12-26         1\n",
              "4   823519     3.0 2004-05-03         1"
            ],
            "text/html": [
              "<div>\n",
              "<style scoped>\n",
              "    .dataframe tbody tr th:only-of-type {\n",
              "        vertical-align: middle;\n",
              "    }\n",
              "\n",
              "    .dataframe tbody tr th {\n",
              "        vertical-align: top;\n",
              "    }\n",
              "\n",
              "    .dataframe thead th {\n",
              "        text-align: right;\n",
              "    }\n",
              "</style>\n",
              "<table border=\"1\" class=\"dataframe\">\n",
              "  <thead>\n",
              "    <tr style=\"text-align: right;\">\n",
              "      <th></th>\n",
              "      <th>user_id</th>\n",
              "      <th>rating</th>\n",
              "      <th>date</th>\n",
              "      <th>movie_id</th>\n",
              "    </tr>\n",
              "  </thead>\n",
              "  <tbody>\n",
              "    <tr>\n",
              "      <th>0</th>\n",
              "      <td>1488844</td>\n",
              "      <td>3.0</td>\n",
              "      <td>2005-09-06</td>\n",
              "      <td>1</td>\n",
              "    </tr>\n",
              "    <tr>\n",
              "      <th>1</th>\n",
              "      <td>822109</td>\n",
              "      <td>5.0</td>\n",
              "      <td>2005-05-13</td>\n",
              "      <td>1</td>\n",
              "    </tr>\n",
              "    <tr>\n",
              "      <th>2</th>\n",
              "      <td>885013</td>\n",
              "      <td>4.0</td>\n",
              "      <td>2005-10-19</td>\n",
              "      <td>1</td>\n",
              "    </tr>\n",
              "    <tr>\n",
              "      <th>3</th>\n",
              "      <td>30878</td>\n",
              "      <td>4.0</td>\n",
              "      <td>2005-12-26</td>\n",
              "      <td>1</td>\n",
              "    </tr>\n",
              "    <tr>\n",
              "      <th>4</th>\n",
              "      <td>823519</td>\n",
              "      <td>3.0</td>\n",
              "      <td>2004-05-03</td>\n",
              "      <td>1</td>\n",
              "    </tr>\n",
              "  </tbody>\n",
              "</table>\n",
              "</div>"
            ],
            "application/vnd.google.colaboratory.intrinsic+json": {
              "type": "dataframe",
              "variable_name": "df"
            }
          },
          "metadata": {},
          "execution_count": 6
        }
      ],
      "source": [
        "df.head()"
      ]
    },
    {
      "cell_type": "code",
      "execution_count": 7,
      "id": "2035a7db-6eaf-4416-846f-e8aaa1d29d40",
      "metadata": {
        "scrolled": true,
        "id": "2035a7db-6eaf-4416-846f-e8aaa1d29d40"
      },
      "outputs": [],
      "source": [
        "path = '/content/drive/MyDrive/Netflix_Prize/movie_titles.csv'\n",
        "\n",
        "records = []\n",
        "\n",
        "with open(path, encoding='latin-1') as f:\n",
        "    reader = csv.reader(f)\n",
        "    for row in reader:\n",
        "        movie_id = row[0]\n",
        "        year = row[1]\n",
        "        title = ','.join(row[2:])\n",
        "        records.append([movie_id, year, title])\n",
        "\n",
        "movie_titles = pd.DataFrame(records, columns=['movie_id', 'year', 'title'])"
      ]
    },
    {
      "cell_type": "code",
      "source": [
        "movie_titles['movie_id'] = movie_titles['movie_id'].astype('Int64')\n",
        "movie_titles['year'] = pd.to_numeric(movie_titles['year'], errors='coerce')"
      ],
      "metadata": {
        "id": "a8lEk2Bc6Pjp"
      },
      "id": "a8lEk2Bc6Pjp",
      "execution_count": 8,
      "outputs": []
    },
    {
      "cell_type": "markdown",
      "source": [
        "Check for null values in movie_titles"
      ],
      "metadata": {
        "id": "738Ovc9n7pje"
      },
      "id": "738Ovc9n7pje"
    },
    {
      "cell_type": "code",
      "source": [
        "null_movie_id = list(movie_titles[movie_titles[\"year\"].isnull() == True]['movie_id'].astype(int))\n",
        "null_movie_id"
      ],
      "metadata": {
        "id": "i-qnn5uv6-H2",
        "outputId": "d33308a2-beee-4731-c4b5-079b781953d9",
        "colab": {
          "base_uri": "https://localhost:8080/"
        }
      },
      "id": "i-qnn5uv6-H2",
      "execution_count": 9,
      "outputs": [
        {
          "output_type": "execute_result",
          "data": {
            "text/plain": [
              "[4388, 4794, 7241, 10782, 15918, 16678, 17667]"
            ]
          },
          "metadata": {},
          "execution_count": 9
        }
      ]
    },
    {
      "cell_type": "code",
      "source": [
        "movie_titles = movie_titles.dropna()"
      ],
      "metadata": {
        "id": "M8Q8zi2A9Y6K"
      },
      "id": "M8Q8zi2A9Y6K",
      "execution_count": 10,
      "outputs": []
    },
    {
      "cell_type": "code",
      "execution_count": 11,
      "id": "bbd8aa7e-14af-4f51-b4a1-73e4e76769af",
      "metadata": {
        "colab": {
          "base_uri": "https://localhost:8080/"
        },
        "id": "bbd8aa7e-14af-4f51-b4a1-73e4e76769af",
        "outputId": "88cf3d7a-18a9-4172-de30-42114bfab845"
      },
      "outputs": [
        {
          "output_type": "stream",
          "name": "stdout",
          "text": [
            "Number of users rated: 470758\n"
          ]
        }
      ],
      "source": [
        "user_counts = df['user_id'].value_counts()\n",
        "\n",
        "\n",
        "# We can see through this that ~370000 unique users provided a rating\n",
        "print(\"Number of users rated:\", len(user_counts))"
      ]
    },
    {
      "cell_type": "code",
      "execution_count": 12,
      "id": "2dc355cc-ea26-4c33-a9e9-5b5b36fdb5ca",
      "metadata": {
        "colab": {
          "base_uri": "https://localhost:8080/",
          "height": 564
        },
        "id": "2dc355cc-ea26-4c33-a9e9-5b5b36fdb5ca",
        "outputId": "9bd1273c-75e1-4826-c24c-774948f3fe8c"
      },
      "outputs": [
        {
          "output_type": "display_data",
          "data": {
            "text/plain": [
              "<Figure size 1000x600 with 1 Axes>"
            ],
            "image/png": "[encoded data removed]"
          },
          "metadata": {}
        }
      ],
      "source": [
        "user_counts = df['user_id'].value_counts()\n",
        "\n",
        "plt.figure(figsize=(10, 6))\n",
        "plt.hist(user_counts, bins=50, edgecolor='black', log=True)\n",
        "plt.xlabel(\"Number of ratings per user\")\n",
        "plt.ylabel(\"Number of users (log scale)\")\n",
        "plt.title(\"Distribution of User Rating Counts\")\n",
        "plt.grid(True)\n",
        "plt.show()"
      ]
    },
    {
      "cell_type": "markdown",
      "id": "88b98168-436b-47b0-bed5-8b6ae5370140",
      "metadata": {
        "id": "88b98168-436b-47b0-bed5-8b6ae5370140"
      },
      "source": [
        "We see that most users tend to not give too many ratings, even though this is only a subset of the data, we can expect the rest of the data to be similarly sparse. We'll account for this sparsity in our training."
      ]
    },
    {
      "cell_type": "code",
      "execution_count": 13,
      "id": "0cc6f624-cbd2-480e-ada4-056c082d7981",
      "metadata": {
        "colab": {
          "base_uri": "https://localhost:8080/",
          "height": 564
        },
        "id": "0cc6f624-cbd2-480e-ada4-056c082d7981",
        "outputId": "d129a131-6a8c-4b57-a802-257e9afa8d7b"
      },
      "outputs": [
        {
          "output_type": "display_data",
          "data": {
            "text/plain": [
              "<Figure size 1000x600 with 1 Axes>"
            ],
            "image/png": "[encoded data removed]"
          },
          "metadata": {}
        }
      ],
      "source": [
        "user_stats = df.groupby('user_id')['rating'].agg(['mean', 'std'])\n",
        "user_stats = user_stats.dropna()  # drop users with only one rating (std = NaN)\n",
        "\n",
        "plt.figure(figsize=(10, 6))\n",
        "\n",
        "# Histogram (density-scaled)\n",
        "sns.histplot(user_stats['mean'], bins=50, stat=\"density\", color='skyblue', edgecolor='black', kde=False, label='Histogram')\n",
        "\n",
        "plt.xlabel(\"Mean Rating per User\")\n",
        "plt.ylabel(\"Density\")\n",
        "plt.title(\"User Mean Ratings: Histogram\")\n",
        "plt.legend()\n",
        "plt.grid(True)\n",
        "plt.show()"
      ]
    },
    {
      "cell_type": "markdown",
      "id": "281099fa-573d-400a-9731-1a315d3d3b68",
      "metadata": {
        "id": "281099fa-573d-400a-9731-1a315d3d3b68"
      },
      "source": [
        "This histogram shows that on average, users tend to rate movies positively (rating > 3.0).\n",
        "\n",
        "Moreover there are spikes on the multiples of .5, with the highest spike being 4.0. These show that a lot of users don't show a lot of variation in their rating. Users that tend to give ~4.0 ratings seem to give ~4.0 ratings consistently."
      ]
    },
    {
      "cell_type": "markdown",
      "id": "159c5b8f-c83b-4a08-9b0e-676a303d350d",
      "metadata": {
        "id": "159c5b8f-c83b-4a08-9b0e-676a303d350d"
      },
      "source": [
        "### Sparsity: The Cold-Start Problem\n",
        "\n",
        "We'll take a look at the sparsity of the data, i.e. how \"full\" our matrix of users x movies is"
      ]
    },
    {
      "cell_type": "code",
      "execution_count": 14,
      "id": "7519821b-726f-4111-bcb8-27e78e566e0c",
      "metadata": {
        "colab": {
          "base_uri": "https://localhost:8080/"
        },
        "id": "7519821b-726f-4111-bcb8-27e78e566e0c",
        "outputId": "42dcd850-2da8-494e-c4c6-a2d2cfd13056"
      },
      "outputs": [
        {
          "output_type": "stream",
          "name": "stdout",
          "text": [
            "Users: 470758\n",
            "Movies: 4499\n",
            "Actual ratings: 24053764\n",
            "Matrix size: 2117940242\n",
            "Sparsity: 98.8643%\n"
          ]
        }
      ],
      "source": [
        "### Sparsity\n",
        "n_users = df['user_id'].nunique()\n",
        "n_movies = df['movie_id'].nunique()\n",
        "n_ratings = len(df)\n",
        "\n",
        "total_possible = n_users * n_movies\n",
        "sparsity = 1 - (n_ratings / total_possible)\n",
        "\n",
        "print(f\"Users: {n_users}\")\n",
        "print(f\"Movies: {n_movies}\")\n",
        "print(f\"Actual ratings: {n_ratings}\")\n",
        "print(f\"Matrix size: {total_possible}\")\n",
        "print(f\"Sparsity: {sparsity:.4%}\")"
      ]
    },
    {
      "cell_type": "markdown",
      "id": "c885db34-210e-410c-b942-718ba94bc434",
      "metadata": {
        "id": "c885db34-210e-410c-b942-718ba94bc434"
      },
      "source": [
        "We obtain a value of ~98.5% sparsity which is expected for recommender data. Many movies are niche, meaning they don't get rated as often, many users don't rate all the movies they watch. Let's sample a part of our matrix to visualize this sparsity."
      ]
    },
    {
      "cell_type": "code",
      "execution_count": 17,
      "id": "145cbf6a-1d49-428d-8924-4fed674808f4",
      "metadata": {
        "colab": {
          "base_uri": "https://localhost:8080/",
          "height": 495
        },
        "id": "145cbf6a-1d49-428d-8924-4fed674808f4",
        "outputId": "654cee18-508e-4d6f-8bfd-e26d13739c61"
      },
      "outputs": [
        {
          "output_type": "error",
          "ename": "AttributeError",
          "evalue": "'DataFrame' object has no attribute 'to_pandas'",
          "traceback": [
            "\u001b[0;31m---------------------------------------------------------------------------\u001b[0m",
            "\u001b[0;31mKeyError\u001b[0m                                  Traceback (most recent call last)",
            "\u001b[0;32m/usr/local/lib/python3.11/dist-packages/cudf/utils/utils.py\u001b[0m in \u001b[0;36m__getattr__\u001b[0;34m(self, key)\u001b[0m\n\u001b[1;32m    229\u001b[0m         \u001b[0;32mtry\u001b[0m\u001b[0;34m:\u001b[0m\u001b[0;34m\u001b[0m\u001b[0;34m\u001b[0m\u001b[0m\n\u001b[0;32m--> 230\u001b[0;31m             \u001b[0;32mreturn\u001b[0m \u001b[0mself\u001b[0m\u001b[0;34m[\u001b[0m\u001b[0mkey\u001b[0m\u001b[0;34m]\u001b[0m\u001b[0;34m\u001b[0m\u001b[0;34m\u001b[0m\u001b[0m\n\u001b[0m\u001b[1;32m    231\u001b[0m         \u001b[0;32mexcept\u001b[0m \u001b[0mKeyError\u001b[0m\u001b[0;34m:\u001b[0m\u001b[0;34m\u001b[0m\u001b[0;34m\u001b[0m\u001b[0m\n",
            "\u001b[0;32m/usr/local/lib/python3.11/dist-packages/cudf/utils/performance_tracking.py\u001b[0m in \u001b[0;36mwrapper\u001b[0;34m(*args, **kwargs)\u001b[0m\n\u001b[1;32m     50\u001b[0m                 )\n\u001b[0;32m---> 51\u001b[0;31m             \u001b[0;32mreturn\u001b[0m \u001b[0mfunc\u001b[0m\u001b[0;34m(\u001b[0m\u001b[0;34m*\u001b[0m\u001b[0margs\u001b[0m\u001b[0;34m,\u001b[0m \u001b[0;34m**\u001b[0m\u001b[0mkwargs\u001b[0m\u001b[0;34m)\u001b[0m\u001b[0;34m\u001b[0m\u001b[0;34m\u001b[0m\u001b[0m\n\u001b[0m\u001b[1;32m     52\u001b[0m \u001b[0;34m\u001b[0m\u001b[0m\n",
            "\u001b[0;32m/usr/local/lib/python3.11/dist-packages/cudf/core/dataframe.py\u001b[0m in \u001b[0;36m__getitem__\u001b[0;34m(self, arg)\u001b[0m\n\u001b[1;32m   1361\u001b[0m         \u001b[0;32mif\u001b[0m \u001b[0m_is_scalar_or_zero_d_array\u001b[0m\u001b[0;34m(\u001b[0m\u001b[0marg\u001b[0m\u001b[0;34m)\u001b[0m \u001b[0;32mor\u001b[0m \u001b[0misinstance\u001b[0m\u001b[0;34m(\u001b[0m\u001b[0marg\u001b[0m\u001b[0;34m,\u001b[0m \u001b[0mtuple\u001b[0m\u001b[0;34m)\u001b[0m\u001b[0;34m:\u001b[0m\u001b[0;34m\u001b[0m\u001b[0;34m\u001b[0m\u001b[0m\n\u001b[0;32m-> 1362\u001b[0;31m             \u001b[0mout\u001b[0m \u001b[0;34m=\u001b[0m \u001b[0mself\u001b[0m\u001b[0;34m.\u001b[0m\u001b[0m_get_columns_by_label\u001b[0m\u001b[0;34m(\u001b[0m\u001b[0marg\u001b[0m\u001b[0;34m)\u001b[0m\u001b[0;34m\u001b[0m\u001b[0;34m\u001b[0m\u001b[0m\n\u001b[0m\u001b[1;32m   1363\u001b[0m             \u001b[0;32mif\u001b[0m \u001b[0mis_scalar\u001b[0m\u001b[0;34m(\u001b[0m\u001b[0marg\u001b[0m\u001b[0;34m)\u001b[0m\u001b[0;34m:\u001b[0m\u001b[0;34m\u001b[0m\u001b[0;34m\u001b[0m\u001b[0m\n",
            "\u001b[0;32m/usr/local/lib/python3.11/dist-packages/cudf/utils/performance_tracking.py\u001b[0m in \u001b[0;36mwrapper\u001b[0;34m(*args, **kwargs)\u001b[0m\n\u001b[1;32m     50\u001b[0m                 )\n\u001b[0;32m---> 51\u001b[0;31m             \u001b[0;32mreturn\u001b[0m \u001b[0mfunc\u001b[0m\u001b[0;34m(\u001b[0m\u001b[0;34m*\u001b[0m\u001b[0margs\u001b[0m\u001b[0;34m,\u001b[0m \u001b[0;34m**\u001b[0m\u001b[0mkwargs\u001b[0m\u001b[0;34m)\u001b[0m\u001b[0;34m\u001b[0m\u001b[0;34m\u001b[0m\u001b[0m\n\u001b[0m\u001b[1;32m     52\u001b[0m \u001b[0;34m\u001b[0m\u001b[0m\n",
            "\u001b[0;32m/usr/local/lib/python3.11/dist-packages/cudf/core/frame.py\u001b[0m in \u001b[0;36m_get_columns_by_label\u001b[0;34m(self, labels)\u001b[0m\n\u001b[1;32m    405\u001b[0m         \"\"\"\n\u001b[0;32m--> 406\u001b[0;31m         \u001b[0;32mreturn\u001b[0m \u001b[0mself\u001b[0m\u001b[0;34m.\u001b[0m\u001b[0m_from_data_like_self\u001b[0m\u001b[0;34m(\u001b[0m\u001b[0mself\u001b[0m\u001b[0;34m.\u001b[0m\u001b[0m_data\u001b[0m\u001b[0;34m.\u001b[0m\u001b[0mselect_by_label\u001b[0m\u001b[0;34m(\u001b[0m\u001b[0mlabels\u001b[0m\u001b[0;34m)\u001b[0m\u001b[0;34m)\u001b[0m\u001b[0;34m\u001b[0m\u001b[0;34m\u001b[0m\u001b[0m\n\u001b[0m\u001b[1;32m    407\u001b[0m \u001b[0;34m\u001b[0m\u001b[0m\n",
            "\u001b[0;32m/usr/local/lib/python3.11/dist-packages/cudf/core/column_accessor.py\u001b[0m in \u001b[0;36mselect_by_label\u001b[0;34m(self, key)\u001b[0m\n\u001b[1;32m    412\u001b[0m                     \u001b[0;32mreturn\u001b[0m \u001b[0mself\u001b[0m\u001b[0;34m.\u001b[0m\u001b[0m_select_by_label_with_wildcard\u001b[0m\u001b[0;34m(\u001b[0m\u001b[0mkey\u001b[0m\u001b[0;34m)\u001b[0m\u001b[0;34m\u001b[0m\u001b[0;34m\u001b[0m\u001b[0m\n\u001b[0;32m--> 413\u001b[0;31m             \u001b[0;32mreturn\u001b[0m \u001b[0mself\u001b[0m\u001b[0;34m.\u001b[0m\u001b[0m_select_by_label_grouped\u001b[0m\u001b[0;34m(\u001b[0m\u001b[0mkey\u001b[0m\u001b[0;34m)\u001b[0m\u001b[0;34m\u001b[0m\u001b[0;34m\u001b[0m\u001b[0m\n\u001b[0m\u001b[1;32m    414\u001b[0m \u001b[0;34m\u001b[0m\u001b[0m\n",
            "\u001b[0;32m/usr/local/lib/python3.11/dist-packages/cudf/core/column_accessor.py\u001b[0m in \u001b[0;36m_select_by_label_grouped\u001b[0;34m(self, key)\u001b[0m\n\u001b[1;32m    574\u001b[0m     \u001b[0;32mdef\u001b[0m \u001b[0m_select_by_label_grouped\u001b[0m\u001b[0;34m(\u001b[0m\u001b[0mself\u001b[0m\u001b[0;34m,\u001b[0m \u001b[0mkey\u001b[0m\u001b[0;34m:\u001b[0m \u001b[0mabc\u001b[0m\u001b[0;34m.\u001b[0m\u001b[0mHashable\u001b[0m\u001b[0;34m)\u001b[0m \u001b[0;34m->\u001b[0m \u001b[0mSelf\u001b[0m\u001b[0;34m:\u001b[0m\u001b[0;34m\u001b[0m\u001b[0;34m\u001b[0m\u001b[0m\n\u001b[0;32m--> 575\u001b[0;31m         \u001b[0mresult\u001b[0m \u001b[0;34m=\u001b[0m \u001b[0mself\u001b[0m\u001b[0;34m.\u001b[0m\u001b[0m_grouped_data\u001b[0m\u001b[0;34m[\u001b[0m\u001b[0mkey\u001b[0m\u001b[0;34m]\u001b[0m\u001b[0;34m\u001b[0m\u001b[0;34m\u001b[0m\u001b[0m\n\u001b[0m\u001b[1;32m    576\u001b[0m         \u001b[0;32mif\u001b[0m \u001b[0misinstance\u001b[0m\u001b[0;34m(\u001b[0m\u001b[0mresult\u001b[0m\u001b[0;34m,\u001b[0m \u001b[0mcolumn\u001b[0m\u001b[0;34m.\u001b[0m\u001b[0mColumnBase\u001b[0m\u001b[0;34m)\u001b[0m\u001b[0;34m:\u001b[0m\u001b[0;34m\u001b[0m\u001b[0;34m\u001b[0m\u001b[0m\n",
            "\u001b[0;31mKeyError\u001b[0m: 'to_pandas'",
            "\nDuring handling of the above exception, another exception occurred:\n",
            "\u001b[0;31mAttributeError\u001b[0m                            Traceback (most recent call last)",
            "\u001b[0;32m/usr/local/lib/python3.11/dist-packages/cudf/pandas/fast_slow_proxy.py\u001b[0m in \u001b[0;36m_fast_slow_function_call\u001b[0;34m(func, *args, **kwargs)\u001b[0m\n\u001b[1;32m    995\u001b[0m             \u001b[0mfast_args\u001b[0m\u001b[0;34m,\u001b[0m \u001b[0mfast_kwargs\u001b[0m \u001b[0;34m=\u001b[0m \u001b[0m_fast_arg\u001b[0m\u001b[0;34m(\u001b[0m\u001b[0margs\u001b[0m\u001b[0;34m)\u001b[0m\u001b[0;34m,\u001b[0m \u001b[0m_fast_arg\u001b[0m\u001b[0;34m(\u001b[0m\u001b[0mkwargs\u001b[0m\u001b[0;34m)\u001b[0m\u001b[0;34m\u001b[0m\u001b[0;34m\u001b[0m\u001b[0m\n\u001b[0;32m--> 996\u001b[0;31m             \u001b[0mresult\u001b[0m \u001b[0;34m=\u001b[0m \u001b[0mfunc\u001b[0m\u001b[0;34m(\u001b[0m\u001b[0;34m*\u001b[0m\u001b[0mfast_args\u001b[0m\u001b[0;34m,\u001b[0m \u001b[0;34m**\u001b[0m\u001b[0mfast_kwargs\u001b[0m\u001b[0;34m)\u001b[0m\u001b[0;34m\u001b[0m\u001b[0;34m\u001b[0m\u001b[0m\n\u001b[0m\u001b[1;32m    997\u001b[0m             \u001b[0;32mif\u001b[0m \u001b[0mresult\u001b[0m \u001b[0;32mis\u001b[0m \u001b[0mNotImplemented\u001b[0m\u001b[0;34m:\u001b[0m\u001b[0;34m\u001b[0m\u001b[0;34m\u001b[0m\u001b[0m\n",
            "\u001b[0;32m/usr/local/lib/python3.11/dist-packages/cudf/pandas/fast_slow_proxy.py\u001b[0m in \u001b[0;36mcall_operator\u001b[0;34m(fn, args, kwargs)\u001b[0m\n\u001b[1;32m     27\u001b[0m \u001b[0;32mdef\u001b[0m \u001b[0mcall_operator\u001b[0m\u001b[0;34m(\u001b[0m\u001b[0mfn\u001b[0m\u001b[0;34m,\u001b[0m \u001b[0margs\u001b[0m\u001b[0;34m,\u001b[0m \u001b[0mkwargs\u001b[0m\u001b[0;34m)\u001b[0m\u001b[0;34m:\u001b[0m\u001b[0;34m\u001b[0m\u001b[0;34m\u001b[0m\u001b[0m\n\u001b[0;32m---> 28\u001b[0;31m     \u001b[0;32mreturn\u001b[0m \u001b[0mfn\u001b[0m\u001b[0;34m(\u001b[0m\u001b[0;34m*\u001b[0m\u001b[0margs\u001b[0m\u001b[0;34m,\u001b[0m \u001b[0;34m**\u001b[0m\u001b[0mkwargs\u001b[0m\u001b[0;34m)\u001b[0m\u001b[0;34m\u001b[0m\u001b[0;34m\u001b[0m\u001b[0m\n\u001b[0m\u001b[1;32m     29\u001b[0m \u001b[0;34m\u001b[0m\u001b[0m\n",
            "\u001b[0;32m/usr/local/lib/python3.11/dist-packages/cudf/utils/utils.py\u001b[0m in \u001b[0;36m__getattr__\u001b[0;34m(self, key)\u001b[0m\n\u001b[1;32m    231\u001b[0m         \u001b[0;32mexcept\u001b[0m \u001b[0mKeyError\u001b[0m\u001b[0;34m:\u001b[0m\u001b[0;34m\u001b[0m\u001b[0;34m\u001b[0m\u001b[0m\n\u001b[0;32m--> 232\u001b[0;31m             raise AttributeError(\n\u001b[0m\u001b[1;32m    233\u001b[0m                 \u001b[0;34mf\"{type(self).__name__} object has no attribute {key}\"\u001b[0m\u001b[0;34m\u001b[0m\u001b[0;34m\u001b[0m\u001b[0m\n",
            "\u001b[0;31mAttributeError\u001b[0m: DataFrame object has no attribute to_pandas",
            "\nDuring handling of the above exception, another exception occurred:\n",
            "\u001b[0;31mAttributeError\u001b[0m                            Traceback (most recent call last)",
            "\u001b[0;32m<ipython-input-17-d87131b9cbe2>\u001b[0m in \u001b[0;36m<cell line: 0>\u001b[0;34m()\u001b[0m\n\u001b[1;32m      6\u001b[0m \u001b[0;34m\u001b[0m\u001b[0m\n\u001b[1;32m      7\u001b[0m \u001b[0mmatrix\u001b[0m \u001b[0;34m=\u001b[0m \u001b[0msample_df\u001b[0m\u001b[0;34m.\u001b[0m\u001b[0mpivot\u001b[0m\u001b[0;34m(\u001b[0m\u001b[0mindex\u001b[0m\u001b[0;34m=\u001b[0m\u001b[0;34m'user_id'\u001b[0m\u001b[0;34m,\u001b[0m \u001b[0mcolumns\u001b[0m\u001b[0;34m=\u001b[0m\u001b[0;34m'movie_id'\u001b[0m\u001b[0;34m,\u001b[0m \u001b[0mvalues\u001b[0m\u001b[0;34m=\u001b[0m\u001b[0;34m'rating'\u001b[0m\u001b[0;34m)\u001b[0m\u001b[0;34m.\u001b[0m\u001b[0mnotnull\u001b[0m\u001b[0;34m(\u001b[0m\u001b[0;34m)\u001b[0m\u001b[0;34m.\u001b[0m\u001b[0mastype\u001b[0m\u001b[0;34m(\u001b[0m\u001b[0mint\u001b[0m\u001b[0;34m)\u001b[0m\u001b[0;34m\u001b[0m\u001b[0;34m\u001b[0m\u001b[0m\n\u001b[0;32m----> 8\u001b[0;31m \u001b[0mmatrix\u001b[0m \u001b[0;34m=\u001b[0m \u001b[0mpd\u001b[0m\u001b[0;34m.\u001b[0m\u001b[0mDataFrame\u001b[0m\u001b[0;34m(\u001b[0m\u001b[0mmatrix\u001b[0m\u001b[0;34m.\u001b[0m\u001b[0mto_pandas\u001b[0m\u001b[0;34m(\u001b[0m\u001b[0;34m)\u001b[0m\u001b[0;34m)\u001b[0m\u001b[0;34m\u001b[0m\u001b[0;34m\u001b[0m\u001b[0m\n\u001b[0m",
            "\u001b[0;32m/usr/local/lib/python3.11/dist-packages/cudf/pandas/fast_slow_proxy.py\u001b[0m in \u001b[0;36m__call__\u001b[0;34m(self, *args, **kwargs)\u001b[0m\n\u001b[1;32m    719\u001b[0m \u001b[0;34m\u001b[0m\u001b[0m\n\u001b[1;32m    720\u001b[0m     \u001b[0;32mdef\u001b[0m \u001b[0m__call__\u001b[0m\u001b[0;34m(\u001b[0m\u001b[0mself\u001b[0m\u001b[0;34m,\u001b[0m \u001b[0;34m*\u001b[0m\u001b[0margs\u001b[0m\u001b[0;34m,\u001b[0m \u001b[0;34m**\u001b[0m\u001b[0mkwargs\u001b[0m\u001b[0;34m)\u001b[0m \u001b[0;34m->\u001b[0m \u001b[0mAny\u001b[0m\u001b[0;34m:\u001b[0m\u001b[0;34m\u001b[0m\u001b[0;34m\u001b[0m\u001b[0m\n\u001b[0;32m--> 721\u001b[0;31m         result, _ = _fast_slow_function_call(\n\u001b[0m\u001b[1;32m    722\u001b[0m             \u001b[0;31m# We cannot directly call self here because we need it to be\u001b[0m\u001b[0;34m\u001b[0m\u001b[0;34m\u001b[0m\u001b[0m\n\u001b[1;32m    723\u001b[0m             \u001b[0;31m# converted into either the fast or slow object (by\u001b[0m\u001b[0;34m\u001b[0m\u001b[0;34m\u001b[0m\u001b[0m\n",
            "\u001b[0;32m/usr/local/lib/python3.11/dist-packages/cudf/pandas/fast_slow_proxy.py\u001b[0m in \u001b[0;36m_fast_slow_function_call\u001b[0;34m(func, *args, **kwargs)\u001b[0m\n\u001b[1;32m   1046\u001b[0m             \u001b[0m_slow_function_call\u001b[0m\u001b[0;34m(\u001b[0m\u001b[0;34m)\u001b[0m\u001b[0;34m\u001b[0m\u001b[0;34m\u001b[0m\u001b[0m\n\u001b[1;32m   1047\u001b[0m             \u001b[0;32mwith\u001b[0m \u001b[0mdisable_module_accelerator\u001b[0m\u001b[0;34m(\u001b[0m\u001b[0;34m)\u001b[0m\u001b[0;34m:\u001b[0m\u001b[0;34m\u001b[0m\u001b[0;34m\u001b[0m\u001b[0m\n\u001b[0;32m-> 1048\u001b[0;31m                 \u001b[0mresult\u001b[0m \u001b[0;34m=\u001b[0m \u001b[0mfunc\u001b[0m\u001b[0;34m(\u001b[0m\u001b[0;34m*\u001b[0m\u001b[0mslow_args\u001b[0m\u001b[0;34m,\u001b[0m \u001b[0;34m**\u001b[0m\u001b[0mslow_kwargs\u001b[0m\u001b[0;34m)\u001b[0m\u001b[0;34m\u001b[0m\u001b[0;34m\u001b[0m\u001b[0m\n\u001b[0m\u001b[1;32m   1049\u001b[0m     \u001b[0;32mreturn\u001b[0m \u001b[0m_maybe_wrap_result\u001b[0m\u001b[0;34m(\u001b[0m\u001b[0mresult\u001b[0m\u001b[0;34m,\u001b[0m \u001b[0mfunc\u001b[0m\u001b[0;34m,\u001b[0m \u001b[0;34m*\u001b[0m\u001b[0margs\u001b[0m\u001b[0;34m,\u001b[0m \u001b[0;34m**\u001b[0m\u001b[0mkwargs\u001b[0m\u001b[0;34m)\u001b[0m\u001b[0;34m,\u001b[0m \u001b[0mfast\u001b[0m\u001b[0;34m\u001b[0m\u001b[0;34m\u001b[0m\u001b[0m\n\u001b[1;32m   1050\u001b[0m \u001b[0;34m\u001b[0m\u001b[0m\n",
            "\u001b[0;32m/usr/local/lib/python3.11/dist-packages/cudf/pandas/fast_slow_proxy.py\u001b[0m in \u001b[0;36mcall_operator\u001b[0;34m(fn, args, kwargs)\u001b[0m\n\u001b[1;32m     26\u001b[0m \u001b[0;34m\u001b[0m\u001b[0m\n\u001b[1;32m     27\u001b[0m \u001b[0;32mdef\u001b[0m \u001b[0mcall_operator\u001b[0m\u001b[0;34m(\u001b[0m\u001b[0mfn\u001b[0m\u001b[0;34m,\u001b[0m \u001b[0margs\u001b[0m\u001b[0;34m,\u001b[0m \u001b[0mkwargs\u001b[0m\u001b[0;34m)\u001b[0m\u001b[0;34m:\u001b[0m\u001b[0;34m\u001b[0m\u001b[0;34m\u001b[0m\u001b[0m\n\u001b[0;32m---> 28\u001b[0;31m     \u001b[0;32mreturn\u001b[0m \u001b[0mfn\u001b[0m\u001b[0;34m(\u001b[0m\u001b[0;34m*\u001b[0m\u001b[0margs\u001b[0m\u001b[0;34m,\u001b[0m \u001b[0;34m**\u001b[0m\u001b[0mkwargs\u001b[0m\u001b[0;34m)\u001b[0m\u001b[0;34m\u001b[0m\u001b[0;34m\u001b[0m\u001b[0m\n\u001b[0m\u001b[1;32m     29\u001b[0m \u001b[0;34m\u001b[0m\u001b[0m\n\u001b[1;32m     30\u001b[0m \u001b[0;34m\u001b[0m\u001b[0m\n",
            "\u001b[0;32m/usr/local/lib/python3.11/dist-packages/pandas/core/generic.py\u001b[0m in \u001b[0;36m__getattr__\u001b[0;34m(self, name)\u001b[0m\n\u001b[1;32m   6297\u001b[0m         ):\n\u001b[1;32m   6298\u001b[0m             \u001b[0;32mreturn\u001b[0m \u001b[0mself\u001b[0m\u001b[0;34m[\u001b[0m\u001b[0mname\u001b[0m\u001b[0;34m]\u001b[0m\u001b[0;34m\u001b[0m\u001b[0;34m\u001b[0m\u001b[0m\n\u001b[0;32m-> 6299\u001b[0;31m         \u001b[0;32mreturn\u001b[0m \u001b[0mobject\u001b[0m\u001b[0;34m.\u001b[0m\u001b[0m__getattribute__\u001b[0m\u001b[0;34m(\u001b[0m\u001b[0mself\u001b[0m\u001b[0;34m,\u001b[0m \u001b[0mname\u001b[0m\u001b[0;34m)\u001b[0m\u001b[0;34m\u001b[0m\u001b[0;34m\u001b[0m\u001b[0m\n\u001b[0m\u001b[1;32m   6300\u001b[0m \u001b[0;34m\u001b[0m\u001b[0m\n\u001b[1;32m   6301\u001b[0m     \u001b[0;34m@\u001b[0m\u001b[0mfinal\u001b[0m\u001b[0;34m\u001b[0m\u001b[0;34m\u001b[0m\u001b[0m\n",
            "\u001b[0;31mAttributeError\u001b[0m: 'DataFrame' object has no attribute 'to_pandas'"
          ]
        }
      ],
      "source": [
        "# top 100 sample\n",
        "top_users = df['user_id'].value_counts().head(100).index\n",
        "top_movies = df['movie_id'].value_counts().head(100).index\n",
        "\n",
        "sample_df = df[df['user_id'].isin(top_users) & df['movie_id'].isin(top_movies)]\n",
        "\n",
        "matrix = sample_df.pivot(index='user_id', columns='movie_id', values='rating').notnull().astype(int)"
      ]
    },
    {
      "cell_type": "code",
      "execution_count": 16,
      "id": "340604d4-b793-4842-96f2-eb488d5a2a11",
      "metadata": {
        "colab": {
          "base_uri": "https://localhost:8080/",
          "height": 582
        },
        "id": "340604d4-b793-4842-96f2-eb488d5a2a11",
        "outputId": "98a6f338-a663-4329-f5d7-62b4ac011f86"
      },
      "outputs": [
        {
          "output_type": "error",
          "ename": "TypeError",
          "evalue": "Wrong type ((<class 'numpy.object_'>,)) of arguments for cupy_copy",
          "traceback": [
            "\u001b[0;31m---------------------------------------------------------------------------\u001b[0m",
            "\u001b[0;31mTypeError\u001b[0m                                 Traceback (most recent call last)",
            "\u001b[0;32m<ipython-input-16-c8ac31863b3d>\u001b[0m in \u001b[0;36m<cell line: 0>\u001b[0;34m()\u001b[0m\n\u001b[1;32m      1\u001b[0m \u001b[0mplt\u001b[0m\u001b[0;34m.\u001b[0m\u001b[0mfigure\u001b[0m\u001b[0;34m(\u001b[0m\u001b[0mfigsize\u001b[0m\u001b[0;34m=\u001b[0m\u001b[0;34m(\u001b[0m\u001b[0;36m12\u001b[0m\u001b[0;34m,\u001b[0m \u001b[0;36m8\u001b[0m\u001b[0;34m)\u001b[0m\u001b[0;34m)\u001b[0m\u001b[0;34m\u001b[0m\u001b[0;34m\u001b[0m\u001b[0m\n\u001b[0;32m----> 2\u001b[0;31m \u001b[0msns\u001b[0m\u001b[0;34m.\u001b[0m\u001b[0mheatmap\u001b[0m\u001b[0;34m(\u001b[0m\u001b[0mmatrix\u001b[0m\u001b[0;34m,\u001b[0m \u001b[0mcmap\u001b[0m\u001b[0;34m=\u001b[0m\u001b[0;34m'Greys'\u001b[0m\u001b[0;34m,\u001b[0m \u001b[0mcbar\u001b[0m\u001b[0;34m=\u001b[0m\u001b[0;32mFalse\u001b[0m\u001b[0;34m)\u001b[0m\u001b[0;34m\u001b[0m\u001b[0;34m\u001b[0m\u001b[0m\n\u001b[0m\u001b[1;32m      3\u001b[0m \u001b[0mplt\u001b[0m\u001b[0;34m.\u001b[0m\u001b[0mtitle\u001b[0m\u001b[0;34m(\u001b[0m\u001b[0;34m\"User–Movie Interaction Matrix (white = rated, black = not rated)\"\u001b[0m\u001b[0;34m)\u001b[0m\u001b[0;34m\u001b[0m\u001b[0;34m\u001b[0m\u001b[0m\n\u001b[1;32m      4\u001b[0m \u001b[0mplt\u001b[0m\u001b[0;34m.\u001b[0m\u001b[0mxlabel\u001b[0m\u001b[0;34m(\u001b[0m\u001b[0;34m\"Movies\"\u001b[0m\u001b[0;34m)\u001b[0m\u001b[0;34m\u001b[0m\u001b[0;34m\u001b[0m\u001b[0m\n\u001b[1;32m      5\u001b[0m \u001b[0mplt\u001b[0m\u001b[0;34m.\u001b[0m\u001b[0mylabel\u001b[0m\u001b[0;34m(\u001b[0m\u001b[0;34m\"Users\"\u001b[0m\u001b[0;34m)\u001b[0m\u001b[0;34m\u001b[0m\u001b[0;34m\u001b[0m\u001b[0m\n",
            "\u001b[0;32m/usr/local/lib/python3.11/dist-packages/seaborn/matrix.py\u001b[0m in \u001b[0;36mheatmap\u001b[0;34m(data, vmin, vmax, cmap, center, robust, annot, fmt, annot_kws, linewidths, linecolor, cbar, cbar_kws, cbar_ax, square, xticklabels, yticklabels, mask, ax, **kwargs)\u001b[0m\n\u001b[1;32m    444\u001b[0m     \"\"\"\n\u001b[1;32m    445\u001b[0m     \u001b[0;31m# Initialize the plotter object\u001b[0m\u001b[0;34m\u001b[0m\u001b[0;34m\u001b[0m\u001b[0m\n\u001b[0;32m--> 446\u001b[0;31m     plotter = _HeatMapper(data, vmin, vmax, cmap, center, robust, annot, fmt,\n\u001b[0m\u001b[1;32m    447\u001b[0m                           \u001b[0mannot_kws\u001b[0m\u001b[0;34m,\u001b[0m \u001b[0mcbar\u001b[0m\u001b[0;34m,\u001b[0m \u001b[0mcbar_kws\u001b[0m\u001b[0;34m,\u001b[0m \u001b[0mxticklabels\u001b[0m\u001b[0;34m,\u001b[0m\u001b[0;34m\u001b[0m\u001b[0;34m\u001b[0m\u001b[0m\n\u001b[1;32m    448\u001b[0m                           yticklabels, mask)\n",
            "\u001b[0;32m/usr/local/lib/python3.11/dist-packages/seaborn/matrix.py\u001b[0m in \u001b[0;36m__init__\u001b[0;34m(self, data, vmin, vmax, cmap, center, robust, annot, fmt, annot_kws, cbar, cbar_kws, xticklabels, yticklabels, mask)\u001b[0m\n\u001b[1;32m    113\u001b[0m         \u001b[0mmask\u001b[0m \u001b[0;34m=\u001b[0m \u001b[0m_matrix_mask\u001b[0m\u001b[0;34m(\u001b[0m\u001b[0mdata\u001b[0m\u001b[0;34m,\u001b[0m \u001b[0mmask\u001b[0m\u001b[0;34m)\u001b[0m\u001b[0;34m\u001b[0m\u001b[0;34m\u001b[0m\u001b[0m\n\u001b[1;32m    114\u001b[0m \u001b[0;34m\u001b[0m\u001b[0m\n\u001b[0;32m--> 115\u001b[0;31m         \u001b[0mplot_data\u001b[0m \u001b[0;34m=\u001b[0m \u001b[0mnp\u001b[0m\u001b[0;34m.\u001b[0m\u001b[0mma\u001b[0m\u001b[0;34m.\u001b[0m\u001b[0mmasked_where\u001b[0m\u001b[0;34m(\u001b[0m\u001b[0mnp\u001b[0m\u001b[0;34m.\u001b[0m\u001b[0masarray\u001b[0m\u001b[0;34m(\u001b[0m\u001b[0mmask\u001b[0m\u001b[0;34m)\u001b[0m\u001b[0;34m,\u001b[0m \u001b[0mplot_data\u001b[0m\u001b[0;34m)\u001b[0m\u001b[0;34m\u001b[0m\u001b[0;34m\u001b[0m\u001b[0m\n\u001b[0m\u001b[1;32m    116\u001b[0m \u001b[0;34m\u001b[0m\u001b[0m\n\u001b[1;32m    117\u001b[0m         \u001b[0;31m# Get good names for the rows and columns\u001b[0m\u001b[0;34m\u001b[0m\u001b[0;34m\u001b[0m\u001b[0m\n",
            "\u001b[0;32m/usr/local/lib/python3.11/dist-packages/numpy/ma/core.py\u001b[0m in \u001b[0;36mmasked_where\u001b[0;34m(condition, a, copy)\u001b[0m\n\u001b[1;32m   1962\u001b[0m     \u001b[0;32melse\u001b[0m\u001b[0;34m:\u001b[0m\u001b[0;34m\u001b[0m\u001b[0;34m\u001b[0m\u001b[0m\n\u001b[1;32m   1963\u001b[0m         \u001b[0mcls\u001b[0m \u001b[0;34m=\u001b[0m \u001b[0mMaskedArray\u001b[0m\u001b[0;34m\u001b[0m\u001b[0;34m\u001b[0m\u001b[0m\n\u001b[0;32m-> 1964\u001b[0;31m     \u001b[0mresult\u001b[0m \u001b[0;34m=\u001b[0m \u001b[0ma\u001b[0m\u001b[0;34m.\u001b[0m\u001b[0mview\u001b[0m\u001b[0;34m(\u001b[0m\u001b[0mcls\u001b[0m\u001b[0;34m)\u001b[0m\u001b[0;34m\u001b[0m\u001b[0;34m\u001b[0m\u001b[0m\n\u001b[0m\u001b[1;32m   1965\u001b[0m     \u001b[0;31m# Assign to *.mask so that structured masks are handled correctly.\u001b[0m\u001b[0;34m\u001b[0m\u001b[0;34m\u001b[0m\u001b[0m\n\u001b[1;32m   1966\u001b[0m     \u001b[0mresult\u001b[0m\u001b[0;34m.\u001b[0m\u001b[0mmask\u001b[0m \u001b[0;34m=\u001b[0m \u001b[0m_shrink_mask\u001b[0m\u001b[0;34m(\u001b[0m\u001b[0mcond\u001b[0m\u001b[0;34m)\u001b[0m\u001b[0;34m\u001b[0m\u001b[0;34m\u001b[0m\u001b[0m\n",
            "\u001b[0;32m/usr/local/lib/python3.11/dist-packages/cudf/pandas/fast_slow_proxy.py\u001b[0m in \u001b[0;36m__call__\u001b[0;34m(self, *args, **kwargs)\u001b[0m\n\u001b[1;32m    719\u001b[0m \u001b[0;34m\u001b[0m\u001b[0m\n\u001b[1;32m    720\u001b[0m     \u001b[0;32mdef\u001b[0m \u001b[0m__call__\u001b[0m\u001b[0;34m(\u001b[0m\u001b[0mself\u001b[0m\u001b[0;34m,\u001b[0m \u001b[0;34m*\u001b[0m\u001b[0margs\u001b[0m\u001b[0;34m,\u001b[0m \u001b[0;34m**\u001b[0m\u001b[0mkwargs\u001b[0m\u001b[0;34m)\u001b[0m \u001b[0;34m->\u001b[0m \u001b[0mAny\u001b[0m\u001b[0;34m:\u001b[0m\u001b[0;34m\u001b[0m\u001b[0;34m\u001b[0m\u001b[0m\n\u001b[0;32m--> 721\u001b[0;31m         result, _ = _fast_slow_function_call(\n\u001b[0m\u001b[1;32m    722\u001b[0m             \u001b[0;31m# We cannot directly call self here because we need it to be\u001b[0m\u001b[0;34m\u001b[0m\u001b[0;34m\u001b[0m\u001b[0m\n\u001b[1;32m    723\u001b[0m             \u001b[0;31m# converted into either the fast or slow object (by\u001b[0m\u001b[0;34m\u001b[0m\u001b[0;34m\u001b[0m\u001b[0m\n",
            "\u001b[0;32m/usr/local/lib/python3.11/dist-packages/cudf/pandas/fast_slow_proxy.py\u001b[0m in \u001b[0;36m_fast_slow_function_call\u001b[0;34m(func, *args, **kwargs)\u001b[0m\n\u001b[1;32m   1047\u001b[0m             \u001b[0;32mwith\u001b[0m \u001b[0mdisable_module_accelerator\u001b[0m\u001b[0;34m(\u001b[0m\u001b[0;34m)\u001b[0m\u001b[0;34m:\u001b[0m\u001b[0;34m\u001b[0m\u001b[0;34m\u001b[0m\u001b[0m\n\u001b[1;32m   1048\u001b[0m                 \u001b[0mresult\u001b[0m \u001b[0;34m=\u001b[0m \u001b[0mfunc\u001b[0m\u001b[0;34m(\u001b[0m\u001b[0;34m*\u001b[0m\u001b[0mslow_args\u001b[0m\u001b[0;34m,\u001b[0m \u001b[0;34m**\u001b[0m\u001b[0mslow_kwargs\u001b[0m\u001b[0;34m)\u001b[0m\u001b[0;34m\u001b[0m\u001b[0;34m\u001b[0m\u001b[0m\n\u001b[0;32m-> 1049\u001b[0;31m     \u001b[0;32mreturn\u001b[0m \u001b[0m_maybe_wrap_result\u001b[0m\u001b[0;34m(\u001b[0m\u001b[0mresult\u001b[0m\u001b[0;34m,\u001b[0m \u001b[0mfunc\u001b[0m\u001b[0;34m,\u001b[0m \u001b[0;34m*\u001b[0m\u001b[0margs\u001b[0m\u001b[0;34m,\u001b[0m \u001b[0;34m**\u001b[0m\u001b[0mkwargs\u001b[0m\u001b[0;34m)\u001b[0m\u001b[0;34m,\u001b[0m \u001b[0mfast\u001b[0m\u001b[0;34m\u001b[0m\u001b[0;34m\u001b[0m\u001b[0m\n\u001b[0m\u001b[1;32m   1050\u001b[0m \u001b[0;34m\u001b[0m\u001b[0m\n\u001b[1;32m   1051\u001b[0m \u001b[0;34m\u001b[0m\u001b[0m\n",
            "\u001b[0;32m/usr/local/lib/python3.11/dist-packages/cudf/pandas/fast_slow_proxy.py\u001b[0m in \u001b[0;36m_maybe_wrap_result\u001b[0;34m(result, func, *args, **kwargs)\u001b[0m\n\u001b[1;32m   1199\u001b[0m     \u001b[0;32melif\u001b[0m \u001b[0m_is_final_type\u001b[0m\u001b[0;34m(\u001b[0m\u001b[0mresult\u001b[0m\u001b[0;34m)\u001b[0m\u001b[0;34m:\u001b[0m\u001b[0;34m\u001b[0m\u001b[0;34m\u001b[0m\u001b[0m\n\u001b[1;32m   1200\u001b[0m         \u001b[0mtyp\u001b[0m \u001b[0;34m=\u001b[0m \u001b[0mget_final_type_map\u001b[0m\u001b[0;34m(\u001b[0m\u001b[0;34m)\u001b[0m\u001b[0;34m[\u001b[0m\u001b[0mtype\u001b[0m\u001b[0;34m(\u001b[0m\u001b[0mresult\u001b[0m\u001b[0;34m)\u001b[0m\u001b[0;34m]\u001b[0m\u001b[0;34m\u001b[0m\u001b[0;34m\u001b[0m\u001b[0m\n\u001b[0;32m-> 1201\u001b[0;31m         \u001b[0;32mreturn\u001b[0m \u001b[0mtyp\u001b[0m\u001b[0;34m.\u001b[0m\u001b[0m_fsproxy_wrap\u001b[0m\u001b[0;34m(\u001b[0m\u001b[0mresult\u001b[0m\u001b[0;34m,\u001b[0m \u001b[0mfunc\u001b[0m\u001b[0;34m)\u001b[0m\u001b[0;34m\u001b[0m\u001b[0;34m\u001b[0m\u001b[0m\n\u001b[0m\u001b[1;32m   1202\u001b[0m     \u001b[0;32melif\u001b[0m \u001b[0m_is_intermediate_type\u001b[0m\u001b[0;34m(\u001b[0m\u001b[0mresult\u001b[0m\u001b[0;34m)\u001b[0m\u001b[0;34m:\u001b[0m\u001b[0;34m\u001b[0m\u001b[0;34m\u001b[0m\u001b[0m\n\u001b[1;32m   1203\u001b[0m         \u001b[0mtyp\u001b[0m \u001b[0;34m=\u001b[0m \u001b[0mget_intermediate_type_map\u001b[0m\u001b[0;34m(\u001b[0m\u001b[0;34m)\u001b[0m\u001b[0;34m[\u001b[0m\u001b[0mtype\u001b[0m\u001b[0;34m(\u001b[0m\u001b[0mresult\u001b[0m\u001b[0;34m)\u001b[0m\u001b[0;34m]\u001b[0m\u001b[0;34m\u001b[0m\u001b[0;34m\u001b[0m\u001b[0m\n",
            "\u001b[0;32m/usr/local/lib/python3.11/dist-packages/cudf/pandas/_wrappers/numpy.py\u001b[0m in \u001b[0;36mwrap_ndarray\u001b[0;34m(cls, arr, constructor)\u001b[0m\n\u001b[1;32m    106\u001b[0m         \u001b[0;31m# super(ndarray, cls) == super(ndarray, ndarray) == super(cls,\u001b[0m\u001b[0;34m\u001b[0m\u001b[0;34m\u001b[0m\u001b[0m\n\u001b[1;32m    107\u001b[0m         \u001b[0;31m# cls)\u001b[0m\u001b[0;34m\u001b[0m\u001b[0;34m\u001b[0m\u001b[0m\n\u001b[0;32m--> 108\u001b[0;31m         \u001b[0;32mreturn\u001b[0m \u001b[0msuper\u001b[0m\u001b[0;34m(\u001b[0m\u001b[0mcls\u001b[0m\u001b[0;34m,\u001b[0m \u001b[0mcls\u001b[0m\u001b[0;34m)\u001b[0m\u001b[0;34m.\u001b[0m\u001b[0m_fsproxy_wrap\u001b[0m\u001b[0;34m(\u001b[0m\u001b[0marr\u001b[0m\u001b[0;34m,\u001b[0m \u001b[0mconstructor\u001b[0m\u001b[0;34m)\u001b[0m\u001b[0;34m\u001b[0m\u001b[0;34m\u001b[0m\u001b[0m\n\u001b[0m\u001b[1;32m    109\u001b[0m \u001b[0;34m\u001b[0m\u001b[0m\n\u001b[1;32m    110\u001b[0m \u001b[0;34m\u001b[0m\u001b[0m\n",
            "\u001b[0;32m/usr/local/lib/python3.11/dist-packages/cudf/pandas/fast_slow_proxy.py\u001b[0m in \u001b[0;36m_fsproxy_wrap\u001b[0;34m(cls, value, func)\u001b[0m\n\u001b[1;32m    595\u001b[0m             \u001b[0mproxy\u001b[0m \u001b[0;34m=\u001b[0m \u001b[0mbase_class\u001b[0m\u001b[0;34m.\u001b[0m\u001b[0m__new__\u001b[0m\u001b[0;34m(\u001b[0m\u001b[0mcls\u001b[0m\u001b[0;34m)\u001b[0m\u001b[0;34m\u001b[0m\u001b[0;34m\u001b[0m\u001b[0m\n\u001b[1;32m    596\u001b[0m         \u001b[0;32melif\u001b[0m \u001b[0mbase_class\u001b[0m \u001b[0;32mis\u001b[0m \u001b[0mProxyNDarrayBase\u001b[0m\u001b[0;34m:\u001b[0m\u001b[0;34m\u001b[0m\u001b[0;34m\u001b[0m\u001b[0m\n\u001b[0;32m--> 597\u001b[0;31m             \u001b[0mproxy\u001b[0m \u001b[0;34m=\u001b[0m \u001b[0mbase_class\u001b[0m\u001b[0;34m.\u001b[0m\u001b[0m__new__\u001b[0m\u001b[0;34m(\u001b[0m\u001b[0mcls\u001b[0m\u001b[0;34m,\u001b[0m \u001b[0mvalue\u001b[0m\u001b[0;34m)\u001b[0m\u001b[0;34m\u001b[0m\u001b[0;34m\u001b[0m\u001b[0m\n\u001b[0m\u001b[1;32m    598\u001b[0m         \u001b[0;32melse\u001b[0m\u001b[0;34m:\u001b[0m\u001b[0;34m\u001b[0m\u001b[0;34m\u001b[0m\u001b[0m\n\u001b[1;32m    599\u001b[0m             raise TypeError(\n",
            "\u001b[0;32m/usr/local/lib/python3.11/dist-packages/cudf/pandas/proxy_base.py\u001b[0m in \u001b[0;36m__new__\u001b[0;34m(cls, arr)\u001b[0m\n\u001b[1;32m     10\u001b[0m     \u001b[0;32mdef\u001b[0m \u001b[0m__new__\u001b[0m\u001b[0;34m(\u001b[0m\u001b[0mcls\u001b[0m\u001b[0;34m,\u001b[0m \u001b[0marr\u001b[0m\u001b[0;34m)\u001b[0m\u001b[0;34m:\u001b[0m\u001b[0;34m\u001b[0m\u001b[0;34m\u001b[0m\u001b[0m\n\u001b[1;32m     11\u001b[0m         \u001b[0;32mif\u001b[0m \u001b[0misinstance\u001b[0m\u001b[0;34m(\u001b[0m\u001b[0marr\u001b[0m\u001b[0;34m,\u001b[0m \u001b[0mcp\u001b[0m\u001b[0;34m.\u001b[0m\u001b[0mndarray\u001b[0m\u001b[0;34m)\u001b[0m\u001b[0;34m:\u001b[0m\u001b[0;34m\u001b[0m\u001b[0;34m\u001b[0m\u001b[0m\n\u001b[0;32m---> 12\u001b[0;31m             \u001b[0marr\u001b[0m \u001b[0;34m=\u001b[0m \u001b[0marr\u001b[0m\u001b[0;34m.\u001b[0m\u001b[0mget\u001b[0m\u001b[0;34m(\u001b[0m\u001b[0;34m)\u001b[0m\u001b[0;34m\u001b[0m\u001b[0;34m\u001b[0m\u001b[0m\n\u001b[0m\u001b[1;32m     13\u001b[0m         \u001b[0;32mif\u001b[0m \u001b[0;32mnot\u001b[0m \u001b[0misinstance\u001b[0m\u001b[0;34m(\u001b[0m\u001b[0marr\u001b[0m\u001b[0;34m,\u001b[0m \u001b[0mnp\u001b[0m\u001b[0;34m.\u001b[0m\u001b[0mndarray\u001b[0m\u001b[0;34m)\u001b[0m\u001b[0;34m:\u001b[0m\u001b[0;34m\u001b[0m\u001b[0;34m\u001b[0m\u001b[0m\n\u001b[1;32m     14\u001b[0m             raise TypeError(\n",
            "\u001b[0;32mcupy/_core/core.pyx\u001b[0m in \u001b[0;36mcupy._core.core._ndarray_base.get\u001b[0;34m()\u001b[0m\n",
            "\u001b[0;32mcupy/_core/core.pyx\u001b[0m in \u001b[0;36mcupy._core.core._ndarray_base.get\u001b[0;34m()\u001b[0m\n",
            "\u001b[0;32mcupy/_core/core.pyx\u001b[0m in \u001b[0;36mcupy._core.core._ndarray_base.get\u001b[0;34m()\u001b[0m\n",
            "\u001b[0;32mcupy/_core/core.pyx\u001b[0m in \u001b[0;36mcupy._core.core._internal_ascontiguousarray\u001b[0;34m()\u001b[0m\n",
            "\u001b[0;32mcupy/_core/_kernel.pyx\u001b[0m in \u001b[0;36mcupy._core._kernel.ufunc.__call__\u001b[0;34m()\u001b[0m\n",
            "\u001b[0;32mcupy/_core/_kernel.pyx\u001b[0m in \u001b[0;36mcupy._core._kernel._Ops.guess_routine\u001b[0;34m()\u001b[0m\n",
            "\u001b[0;31mTypeError\u001b[0m: Wrong type ((<class 'numpy.object_'>,)) of arguments for cupy_copy"
          ]
        },
        {
          "output_type": "display_data",
          "data": {
            "text/plain": [
              "<Figure size 1200x800 with 0 Axes>"
            ]
          },
          "metadata": {}
        }
      ],
      "source": [
        "plt.figure(figsize=(12, 8))\n",
        "sns.heatmap(matrix, cmap='Greys', cbar=False)\n",
        "plt.title(\"User–Movie Interaction Matrix (white = rated, black = not rated)\")\n",
        "plt.xlabel(\"Movies\")\n",
        "plt.ylabel(\"Users\")\n",
        "plt.show()"
      ]
    },
    {
      "cell_type": "markdown",
      "id": "3bdde07f-6579-498a-a589-0fd31e3e4089",
      "metadata": {
        "id": "3bdde07f-6579-498a-a589-0fd31e3e4089"
      },
      "source": [
        "This level of sparsity is one of the main challenges of recommender system. When so little data is available, algorithms struggle to extract any pattern from the data: this is known as the \"cold-start problem.\"\n",
        "\n",
        "The problem usually occurs when there's a new platform, and users have not yet have time to give us enough data for training. As collaborative filtering relies heavily on past behavior, we look at a few solutions:\n",
        "\n",
        "1. <b>Content-based filtering:</b> Recommend based on user or item features (e.g., genre, age, location) instead of past ratings\n",
        "2. <b>Hybrid models:</b> Combine collaborative + content-based recommendations\n",
        "3. <b>Onboarding questionnaires:</b> Ask new users to rate a few items or select preferences\n",
        "4. <b>Popular item fallback:</b> Recommend trending or universally liked items initially\n",
        "5. <b>Cold-start-aware learning:</b> Use side information (e.g., metadata, text, embeddings) in neural models or GNNs"
      ]
    },
    {
      "cell_type": "markdown",
      "id": "a26550d8-a214-4743-ad73-8f17ed52b5ec",
      "metadata": {
        "id": "a26550d8-a214-4743-ad73-8f17ed52b5ec"
      },
      "source": [
        "### Most active raters\n",
        "Let's zoom in and look at our most active raters, with more than 400 ratings"
      ]
    },
    {
      "cell_type": "code",
      "execution_count": null,
      "id": "6071718e-f44a-4884-ae37-ba57e2a8b12e",
      "metadata": {
        "id": "6071718e-f44a-4884-ae37-ba57e2a8b12e"
      },
      "outputs": [],
      "source": [
        "active_users = df['user_id'].value_counts()\n",
        "\n",
        "active_users = active_users[active_users > 200].index"
      ]
    },
    {
      "cell_type": "code",
      "execution_count": null,
      "id": "9d95774d-3a06-4017-81ca-801246359c3c",
      "metadata": {
        "id": "9d95774d-3a06-4017-81ca-801246359c3c"
      },
      "outputs": [],
      "source": [
        "active_df = df[df['user_id'].isin(active_users)]\n",
        "active_df.head(5)"
      ]
    },
    {
      "cell_type": "code",
      "execution_count": null,
      "id": "42b9348c-a8eb-4c14-94ab-96d6fbcb9961",
      "metadata": {
        "id": "42b9348c-a8eb-4c14-94ab-96d6fbcb9961"
      },
      "outputs": [],
      "source": [
        "# Average rating point\n",
        "\n",
        "active_df['rating'].mean()"
      ]
    },
    {
      "cell_type": "code",
      "execution_count": null,
      "id": "4071798e-265e-4ba3-bf23-e41f18e4eeba",
      "metadata": {
        "id": "4071798e-265e-4ba3-bf23-e41f18e4eeba"
      },
      "outputs": [],
      "source": [
        "plt.figure(figsize=(10, 6))\n",
        "sns.histplot(data=active_df['rating'])\n",
        "\n",
        "plt.show()"
      ]
    },
    {
      "cell_type": "markdown",
      "id": "5afece04-145b-4364-bb28-1ed19158dbf0",
      "metadata": {
        "id": "5afece04-145b-4364-bb28-1ed19158dbf0"
      },
      "source": [
        "Judging from the histogram and the average, we see that our most active users are generally very critical which aligns with our expectations--users are more likely to leave a rating if they're unhappy with the movie."
      ]
    },
    {
      "cell_type": "markdown",
      "id": "b1ff1bd8-ace8-4acf-af36-014b247fa1e0",
      "metadata": {
        "id": "b1ff1bd8-ace8-4acf-af36-014b247fa1e0"
      },
      "source": [
        "### Movies\n",
        "\n",
        "Let's next look at the best and worst movies, additionally, we can also explore:\n",
        "- Most and least rated\n",
        "- Cult favourites: movies with low number of rating but high average rating\n",
        "- Polarizing: movies with the biggest variance in rating, high number of very high ratings and very low ratings\n",
        "- Bias towards older or newer movies"
      ]
    },
    {
      "cell_type": "code",
      "execution_count": null,
      "id": "12bf234d-c08e-4f5a-8bb7-9b42c73e7f95",
      "metadata": {
        "id": "12bf234d-c08e-4f5a-8bb7-9b42c73e7f95"
      },
      "outputs": [],
      "source": [
        "movies_df = df.groupby('movie_id').agg(\n",
        "    avg_rating=('rating', 'mean'),\n",
        "    count=('rating', 'count')\n",
        ")\n",
        "\n",
        "movies_df.head(5)"
      ]
    },
    {
      "cell_type": "code",
      "execution_count": null,
      "id": "33a51c07-1f46-48aa-925c-2cbdaf1d592c",
      "metadata": {
        "id": "33a51c07-1f46-48aa-925c-2cbdaf1d592c"
      },
      "outputs": [],
      "source": [
        "sns.regplot(\n",
        "    data=movies_df,\n",
        "    x='count',\n",
        "    y='avg_rating',\n",
        "    scatter_kws={'alpha': 0.5},\n",
        "    line_kws={'color': 'blue'},\n",
        "    lowess=True\n",
        ")\n",
        "\n",
        "plt.xscale('log')\n",
        "plt.xlabel('Number of Ratings (log scale)')\n",
        "plt.ylabel('Average Rating (1–5)')\n",
        "plt.title('Average Movie Rating vs. Number of Ratings')\n",
        "plt.tight_layout()\n",
        "plt.show()"
      ]
    },
    {
      "cell_type": "markdown",
      "id": "4f922ac3-5ea4-4dbc-b1d9-295e5631931f",
      "metadata": {
        "id": "4f922ac3-5ea4-4dbc-b1d9-295e5631931f"
      },
      "source": [
        "On top we see a movie that achieved 4.5 average rating despite a relatively low number of ratings, this is our cult favourite:"
      ]
    },
    {
      "cell_type": "code",
      "execution_count": null,
      "id": "a372d50f-2ea2-4a1f-9be4-01c8a3679eb2",
      "metadata": {
        "id": "a372d50f-2ea2-4a1f-9be4-01c8a3679eb2"
      },
      "outputs": [],
      "source": [
        "cult_fav_i = movies_df[movies_df['avg_rating'] >= 4.5].index[0]\n",
        "\n",
        "print(\"Cult favourite index:\", cult_fav_i)"
      ]
    },
    {
      "cell_type": "code",
      "execution_count": null,
      "id": "0373f48b-140d-4a41-9381-aa45944615b1",
      "metadata": {
        "id": "0373f48b-140d-4a41-9381-aa45944615b1"
      },
      "outputs": [],
      "source": [
        "movie_titles[movie_titles['movie_id']==cult_fav_i]['title'].values[0]"
      ]
    },
    {
      "cell_type": "markdown",
      "id": "7cf999f3-868d-46a0-b683-a9c18aec816e",
      "metadata": {
        "id": "7cf999f3-868d-46a0-b683-a9c18aec816e"
      },
      "source": [
        "It makes sense since only people who loves Lord of the Rings would watch the bonus material and leave positive ratings!"
      ]
    },
    {
      "cell_type": "markdown",
      "id": "faacb4d1-e964-46ca-9245-f697ef61c8e4",
      "metadata": {
        "id": "faacb4d1-e964-46ca-9245-f697ef61c8e4"
      },
      "source": [
        "Let's look at those polarizing movies next, people loved them or hated them. We'll look at movies with a decent amount of ratings, and then sort them by highest standard deviation (variance)."
      ]
    },
    {
      "cell_type": "code",
      "execution_count": null,
      "id": "0f56b20a-82d3-4b76-a911-9233baedd799",
      "metadata": {
        "id": "0f56b20a-82d3-4b76-a911-9233baedd799"
      },
      "outputs": [],
      "source": [
        "polarizing = df.groupby('movie_id').agg(\n",
        "    avg_rating=('rating', 'mean'),\n",
        "    std=('rating', 'std'),\n",
        "    count=('rating', 'count')\n",
        ")\n",
        "\n",
        "#filter out low count and sort by std\n",
        "\n",
        "polarizing = polarizing[polarizing['count'] > 5000]\n",
        "\n",
        "polarizing = polarizing.sort_values(by='std', ascending=False)\n",
        "\n",
        "# merge with titles\n",
        "polarizing = polarizing.merge(movie_titles, on='movie_id', how='left')"
      ]
    },
    {
      "cell_type": "code",
      "execution_count": null,
      "id": "ed1efc7b-363d-4b92-a821-e8c18a295cf2",
      "metadata": {
        "id": "ed1efc7b-363d-4b92-a821-e8c18a295cf2"
      },
      "outputs": [],
      "source": [
        "polarizing.head(5)"
      ]
    },
    {
      "cell_type": "markdown",
      "id": "264faa69-231b-4a5b-ae1e-601bd613c76f",
      "metadata": {
        "id": "264faa69-231b-4a5b-ae1e-601bd613c76f"
      },
      "source": [
        "According to our filters, the most polarizing show is \"Michael Moore's The Awful Truth: Season 2\" Its rating was 3.63±1.34 which isn't extremely polarizing but shows some people thought it was very very good and some think its alright.\n",
        "\n",
        "We can also look at other biases in the data, for example, do people generally prefer older movies?"
      ]
    },
    {
      "cell_type": "code",
      "execution_count": null,
      "id": "7a572c53-97d6-4f99-ba67-fee5019abee3",
      "metadata": {
        "id": "7a572c53-97d6-4f99-ba67-fee5019abee3"
      },
      "outputs": [],
      "source": [
        "# create movie_age df and merge with titles to get names and years\n",
        "\n",
        "movie_age = df.groupby('movie_id').agg(\n",
        "    avg_rating=('rating', 'mean'),\n",
        "    count=('rating', 'count')\n",
        ")\n",
        "\n",
        "movie_age = movie_age.merge(movie_titles, on='movie_id', how='left')\n",
        "\n",
        "movie_age['year'] = pd.to_numeric(movie_age['year'], errors='coerce')\n",
        "movie_age = movie_age.dropna(subset=['year'])\n",
        "\n",
        "# filter out obscure movies\n",
        "movie_age = movie_age[movie_age['count'] > 10000]\n"
      ]
    },
    {
      "cell_type": "code",
      "execution_count": null,
      "id": "87e474a7-09e9-41fb-901e-ff7f19fac445",
      "metadata": {
        "id": "87e474a7-09e9-41fb-901e-ff7f19fac445"
      },
      "outputs": [],
      "source": [
        "movie_age.head()"
      ]
    },
    {
      "cell_type": "code",
      "execution_count": null,
      "id": "9912b7a0-d577-4f2e-81c9-74c1d3824548",
      "metadata": {
        "id": "9912b7a0-d577-4f2e-81c9-74c1d3824548"
      },
      "outputs": [],
      "source": [
        "sns.scatterplot(\n",
        "    data=movie_age,\n",
        "    x='year',\n",
        "    y='avg_rating',\n",
        "    hue='count',\n",
        "    palette='viridis'\n",
        ")\n",
        "\n",
        "plt.xlabel('Year')\n",
        "plt.ylabel('Average Rating (1–5)')\n",
        "plt.title('Average Movie Rating vs. Year')\n",
        "plt.tight_layout()\n",
        "plt.show()"
      ]
    },
    {
      "cell_type": "markdown",
      "id": "a29ac7d7-a70c-4df1-a5a3-be1ffdd6c43c",
      "metadata": {
        "id": "a29ac7d7-a70c-4df1-a5a3-be1ffdd6c43c"
      },
      "source": [
        "### Movie Age Effect on Rating\n",
        "\n",
        "We can look at how the movie's age at the time of a rating may affect its rating score. Are newer movies rated better? worse?"
      ]
    },
    {
      "cell_type": "code",
      "execution_count": null,
      "id": "aa8a8327-3c45-4f40-8207-9048efc9e712",
      "metadata": {
        "id": "aa8a8327-3c45-4f40-8207-9048efc9e712"
      },
      "outputs": [],
      "source": [
        "movie_age = df.merge(movie_titles, on=\"movie_id\")[['user_id','rating','date','movie_id','year']]\n",
        "\n",
        "movie_age.columns = ['user_id', 'rating', 'date_rated', 'movie_id', 'year_released']\n",
        "\n",
        "movie_age['year_released'] = movie_age['year_released']\n",
        "\n",
        "movie_age['year_rated'] = movie_age['date_rated'].dt.year\n",
        "\n",
        "movie_age['age'] = movie_age['year_rated'] - movie_age['year_released']\n",
        "\n",
        "movie_age.head()"
      ]
    },
    {
      "cell_type": "code",
      "execution_count": null,
      "id": "a2ce5c90-5bb9-46eb-a0d4-4ec3db18b4f4",
      "metadata": {
        "id": "a2ce5c90-5bb9-46eb-a0d4-4ec3db18b4f4"
      },
      "outputs": [],
      "source": [
        "plt.figure(figsize=(10,6))\n",
        "sns.histplot(movie_age['age'], bins=100, kde=True, stat='density', color='skyblue', edgecolor='black')\n",
        "plt.xlabel('Age')\n",
        "plt.ylabel('Density')\n",
        "plt.title('Distribution: Age of Movies at Time of Rating')\n",
        "plt.tight_layout()\n",
        "plt.show()"
      ]
    },
    {
      "cell_type": "markdown",
      "id": "6a38a73d-f6f5-4130-8d67-8964743dea09",
      "metadata": {
        "id": "6a38a73d-f6f5-4130-8d67-8964743dea09"
      },
      "source": [
        "It seems there are some -1 age in our data. Looking at the data these ratings are often made towards the end of the year. This is possibly a disagreement between the netflix prize dataset and the movie_titles.csv that they provided. We'll remove these for now, since theres not many of them."
      ]
    },
    {
      "cell_type": "code",
      "execution_count": null,
      "id": "81e7f1f5-eb38-44fb-969c-0ad8c4496aa6",
      "metadata": {
        "id": "81e7f1f5-eb38-44fb-969c-0ad8c4496aa6"
      },
      "outputs": [],
      "source": [
        "movie_age = movie_age[movie_age['age'] >= 0]"
      ]
    },
    {
      "cell_type": "code",
      "execution_count": null,
      "id": "a1059db3-c3bb-4001-88b2-29503f68f501",
      "metadata": {
        "id": "a1059db3-c3bb-4001-88b2-29503f68f501"
      },
      "outputs": [],
      "source": [
        "avg_rating_per_age = pd.DataFrame(movie_age.groupby('age').mean()['rating'])"
      ]
    },
    {
      "cell_type": "code",
      "execution_count": null,
      "id": "35ef019d-805e-46e7-8a5d-3a76ecbefcb6",
      "metadata": {
        "id": "35ef019d-805e-46e7-8a5d-3a76ecbefcb6"
      },
      "outputs": [],
      "source": [
        "plt.figure(figsize=(10,6))\n",
        "sns.regplot(\n",
        "    data=avg_rating_per_age,\n",
        "    x=avg_rating_per_age.index,\n",
        "    y='rating',\n",
        "    scatter_kws={'alpha': 0.5},\n",
        "    line_kws={'color': 'skyblue'},\n",
        "    lowess=True\n",
        ")\n",
        "\n",
        "plt.xlabel('Age of Movie at Time of Rating')\n",
        "plt.ylabel('Average Rating')\n",
        "plt.title('Average Rating vs. Age at Time of Rating')\n",
        "plt.tight_layout()\n",
        "plt.show()"
      ]
    },
    {
      "cell_type": "code",
      "execution_count": null,
      "id": "1d3163ae-76ef-4245-b961-db1a03577b5f",
      "metadata": {
        "id": "1d3163ae-76ef-4245-b961-db1a03577b5f"
      },
      "outputs": [],
      "source": []
    }
  ],
  "metadata": {
    "kernelspec": {
      "display_name": "Python 3",
      "name": "python3"
    },
    "language_info": {
      "name": "python"
    },
    "colab": {
      "provenance": [],
      "gpuType": "T4"
    },
    "accelerator": "GPU"
  },
  "nbformat": 4,
  "nbformat_minor": 5
}