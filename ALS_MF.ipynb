{
  "nbformat": 4,
  "nbformat_minor": 0,
  "metadata": {
    "colab": {
      "provenance": [],
      "authorship_tag": "ABX9TyMcVJzlL1q/PtEWo24zSirL"
    },
    "kernelspec": {
      "name": "python3",
      "display_name": "Python 3"
    },
    "language_info": {
      "name": "python"
    }
  },
  "cells": [
    {
      "cell_type": "code",
      "source": [
        "import numpy as np\n",
        "import pandas as pd\n",
        "import os\n",
        "import re\n",
        "import random\n",
        "from typing import List, Dict\n",
        "from scipy.sparse import csr_matrix\n",
        "import matplotlib.pyplot as plt\n",
        "from tqdm import tqdm\n",
        "\n",
        "from als import ALS"
      ],
      "metadata": {
        "id": "rURDXNXX7Zsl"
      },
      "execution_count": 1,
      "outputs": []
    },
    {
      "cell_type": "code",
      "source": [
        "from google.colab import drive\n",
        "drive.mount('/gdrive')"
      ],
      "metadata": {
        "colab": {
          "base_uri": "https://localhost:8080/"
        },
        "id": "R8IYzXFL7rEe",
        "outputId": "3097e9ea-5f42-486d-c77f-f05d3ce08202"
      },
      "execution_count": 2,
      "outputs": [
        {
          "output_type": "stream",
          "name": "stdout",
          "text": [
            "Drive already mounted at /gdrive; to attempt to forcibly remount, call drive.mount(\"/gdrive\", force_remount=True).\n"
          ]
        }
      ]
    },
    {
      "cell_type": "code",
      "source": [
        "def get_data(data_dir: str):\n",
        "  partition_files = []\n",
        "\n",
        "  pattern = re.compile(r'part_(\\d+)_(\\d+)\\.parquet$')\n",
        "\n",
        "  for filename in os.listdir(data_dir):\n",
        "    match = pattern.match(filename)\n",
        "    if match:\n",
        "        file_path = os.path.join(data_dir, filename)\n",
        "        part_num = int(match.group(1))\n",
        "        group_num = int(match.group(2))\n",
        "\n",
        "        partition_files.append({\n",
        "            'path': file_path,\n",
        "            'part': part_num,\n",
        "            'group': group_num\n",
        "        })\n",
        "\n",
        "  # sorted partitions in order\n",
        "  partition_files.sort(key=lambda x: (x['part'], x['group']))\n",
        "  return partition_files"
      ],
      "metadata": {
        "id": "FYnzH3fW-IV5"
      },
      "execution_count": 3,
      "outputs": []
    },
    {
      "cell_type": "code",
      "source": [
        "def map_id(partition_files: List[Dict], sample_size=None):\n",
        "  \"\"\"\n",
        "  Map user and movie ids to denser indicies -> for matrix factorization\n",
        "  \"\"\"\n",
        "\n",
        "  user_ids = set()\n",
        "  movie_ids = set()\n",
        "\n",
        "  if sample_size and sample_size < len(partition_files):\n",
        "    partition_sample = random.sample(partition_files, sample_size)\n",
        "  else:\n",
        "    partition_sample = partition_files\n",
        "\n",
        "  for partition in tqdm(partition_sample, desc=\"Mapping IDs\"):\n",
        "    df = pd.read_parquet(partition['path'], columns=['user_id', 'movie_id'])\n",
        "\n",
        "    user_ids.update(df['user_id'].unique())\n",
        "    movie_ids.update(df['movie_id'].unique())\n",
        "\n",
        "  user_id_map = {user_id: idx for idx, user_id in enumerate(sorted(user_ids))}\n",
        "  movie_id_map = {movie_id: idx for idx, movie_id in enumerate(sorted(movie_ids))}\n",
        "\n",
        "  print(f\"Map successful for {len(user_id_map)} users, {len(movie_id_map)} movies\")\n",
        "\n",
        "  return user_id_map, movie_id_map"
      ],
      "metadata": {
        "id": "XIQ78ZPE9Lig"
      },
      "execution_count": 4,
      "outputs": []
    },
    {
      "cell_type": "code",
      "source": [
        "def evaluate_model(model, validation_partitions):\n",
        "    \"\"\"Evaluate ALS model on validation partitions\"\"\"\n",
        "    all_errors = []\n",
        "\n",
        "    for partition in tqdm(validation_partitions, desc=\"Evaluating validation partitions\"):\n",
        "        # Load validation data\n",
        "        df = pd.read_parquet(partition['path'], columns=['user_id', 'movie_id', 'rating'])\n",
        "\n",
        "        # Get predictions\n",
        "        predictions = model.batch_predict(df)\n",
        "\n",
        "        # Calculate squared errors\n",
        "        errors = (predictions - df['rating'].values) ** 2\n",
        "        all_errors.extend(errors)\n",
        "\n",
        "    # Calculate RMSE\n",
        "    rmse = np.sqrt(np.mean(all_errors))\n",
        "    print(f\"Validation RMSE: {rmse:.4f}\")\n",
        "\n",
        "    return rmse"
      ],
      "metadata": {
        "id": "VyHhWbLK2RGX"
      },
      "execution_count": 5,
      "outputs": []
    },
    {
      "cell_type": "code",
      "source": [
        "def get_model_save_path(dir):\n",
        "  i = 1\n",
        "  while True:\n",
        "    save_path = os.path.join(dir, f'model_{i}.pkl')\n",
        "    if not os.path.exists(save_path):\n",
        "      return save_path\n",
        "    i += 1"
      ],
      "metadata": {
        "id": "OnO6zkZO1n-U"
      },
      "execution_count": 6,
      "outputs": []
    },
    {
      "cell_type": "code",
      "source": [
        "data_dir = '/gdrive/MyDrive/Netflix_Prize/split/train'\n",
        "output_dir = '/gdrive/MyDrive/Netflix_Prize/results'\n",
        "val_dir = '/gdrive/MyDrive/Netflix_Prize/split/validation'\n",
        "checkpoint_dir = '/gdrive/MyDrive/Netflix_Prize/checkpoints'"
      ],
      "metadata": {
        "id": "7jrnU7vB7rEf"
      },
      "execution_count": 7,
      "outputs": []
    },
    {
      "cell_type": "code",
      "source": [
        "# retreive training data info\n",
        "train_partition_files = get_data(data_dir)\n",
        "print(f\"Number of training partitions: {len(train_partition_files)}\")\n",
        "val_partition_files = get_data(val_dir)\n",
        "print(f\"Number of validation partitions: {len(val_partition_files)}\")\n",
        "\n",
        "seed = 42\n",
        "random.seed(seed)\n",
        "\n",
        "# testing\n",
        "sample_train_partitions = random.sample(train_partition_files, 7)\n",
        "\n",
        "sample_val_partitions = []\n",
        "for partition in sample_train_partitions:\n",
        "  val_partition = partition.copy()\n",
        "  val_partition['path'] = partition['path'].replace('train', 'validation')\n",
        "  sample_val_partitions.append(val_partition)\n",
        "\n",
        "\n",
        "print(f\"Train EX: {sample_train_partitions[0]}\")\n",
        "print(f\"Val EX: {sample_val_partitions[0]}\")"
      ],
      "metadata": {
        "colab": {
          "base_uri": "https://localhost:8080/"
        },
        "id": "1mtb8sOy7x7v",
        "outputId": "6ec8b2c3-ed60-48d9-c2bb-804ad0b315a8"
      },
      "execution_count": 8,
      "outputs": [
        {
          "output_type": "stream",
          "name": "stdout",
          "text": [
            "Number of training partitions: 34\n",
            "Number of validation partitions: 34\n",
            "Train EX: {'path': '/gdrive/MyDrive/Netflix_Prize/split/train/part_1_7.parquet', 'part': 1, 'group': 7}\n",
            "Val EX: {'path': '/gdrive/MyDrive/Netflix_Prize/split/validation/part_1_7.parquet', 'part': 1, 'group': 7}\n"
          ]
        }
      ]
    },
    {
      "cell_type": "code",
      "source": [
        "# build user_map and movie_map\n",
        "user_map, movie_map = map_id(sample_train_partitions)"
      ],
      "metadata": {
        "colab": {
          "base_uri": "https://localhost:8080/"
        },
        "id": "tYFStOmKVWfB",
        "outputId": "a783ad56-eddd-42c3-964d-13d7a4ed6457"
      },
      "execution_count": 9,
      "outputs": [
        {
          "output_type": "stream",
          "name": "stderr",
          "text": [
            "Mapping IDs: 100%|██████████| 7/7 [00:06<00:00,  1.07it/s]\n"
          ]
        },
        {
          "output_type": "stream",
          "name": "stdout",
          "text": [
            "Map successful for 431670 users, 3720 movies\n"
          ]
        }
      ]
    },
    {
      "cell_type": "code",
      "source": [
        "# 7 each as a test + for tuning\n",
        "train_partitions = sample_train_partitions\n",
        "val_partitions = sample_val_partitions"
      ],
      "metadata": {
        "id": "S332c5EtBu2E"
      },
      "execution_count": 10,
      "outputs": []
    },
    {
      "cell_type": "code",
      "source": [
        "# Tuning grid\n",
        "param_grid = {\n",
        "    'num_factors': [10, 20, 30],\n",
        "    'lambda_reg': [0.01, 0.1, 1],\n",
        "    'num_iters': [15, 20]\n",
        "}"
      ],
      "metadata": {
        "id": "VldOi7wgxNN6"
      },
      "execution_count": 13,
      "outputs": []
    },
    {
      "cell_type": "code",
      "source": [
        "# init model - small test values\n",
        "\n",
        "model = ALS(\n",
        "    num_factors=50,\n",
        "    lambda_reg=0.1,\n",
        "    num_iters=15,\n",
        "    val_interval=5\n",
        ")\n",
        "\n",
        "model.fit(\n",
        "    partitions=train_partitions,\n",
        "    user_map=user_map,\n",
        "    movie_map=movie_map,\n",
        "    checkpoint_dir=checkpoint_dir\n",
        ")\n",
        "\n",
        "model.save_model(get_model_save_path(output_dir))\n",
        "\n",
        "val_rmse = evaluate_model(model, val_partitions)"
      ],
      "metadata": {
        "colab": {
          "base_uri": "https://localhost:8080/"
        },
        "id": "nXdMIjcAC8nx",
        "outputId": "28e9dca2-bd49-4f79-e4c5-cb326f192d74"
      },
      "execution_count": 12,
      "outputs": [
        {
          "output_type": "stream",
          "name": "stdout",
          "text": [
            "Building sparse matrices for 431670 users, and 3720 movies\n"
          ]
        },
        {
          "output_type": "stream",
          "name": "stderr",
          "text": [
            "Building sparse matrix: 100%|██████████| 7/7 [01:23<00:00, 11.89s/it]\n",
            "ALS Optimization:  27%|██▋       | 4/15 [11:55<32:56, 179.67s/it]"
          ]
        },
        {
          "output_type": "stream",
          "name": "stdout",
          "text": [
            "\n",
            "Saved checkpoint to /gdrive/MyDrive/Netflix_Prize/checkpoints/checkpoint_5.npz, in 11.142310380935669 seconds\n"
          ]
        },
        {
          "output_type": "stream",
          "name": "stderr",
          "text": [
            "\rALS Optimization:  33%|███▎      | 5/15 [15:04<30:33, 183.34s/it]"
          ]
        },
        {
          "output_type": "stream",
          "name": "stdout",
          "text": [
            "\n",
            "Iteration 5 -- RMSE: 0.5020\n"
          ]
        },
        {
          "output_type": "stream",
          "name": "stderr",
          "text": [
            "ALS Optimization:  60%|██████    | 9/15 [27:02<18:00, 180.16s/it]"
          ]
        },
        {
          "output_type": "stream",
          "name": "stdout",
          "text": [
            "\n",
            "Saved checkpoint to /gdrive/MyDrive/Netflix_Prize/checkpoints/checkpoint_10.npz, in 10.830766201019287 seconds\n"
          ]
        },
        {
          "output_type": "stream",
          "name": "stderr",
          "text": [
            "\rALS Optimization:  67%|██████▋   | 10/15 [30:13<15:17, 183.59s/it]"
          ]
        },
        {
          "output_type": "stream",
          "name": "stdout",
          "text": [
            "\n",
            "Iteration 10 -- RMSE: 0.4755\n"
          ]
        },
        {
          "output_type": "stream",
          "name": "stderr",
          "text": [
            "ALS Optimization:  93%|█████████▎| 14/15 [41:56<02:57, 177.36s/it]"
          ]
        },
        {
          "output_type": "stream",
          "name": "stdout",
          "text": [
            "\n",
            "Saved checkpoint to /gdrive/MyDrive/Netflix_Prize/checkpoints/checkpoint_15.npz, in 11.345720529556274 seconds\n"
          ]
        },
        {
          "output_type": "stream",
          "name": "stderr",
          "text": [
            "ALS Optimization: 100%|██████████| 15/15 [45:06<00:00, 180.46s/it]"
          ]
        },
        {
          "output_type": "stream",
          "name": "stdout",
          "text": [
            "\n",
            "Iteration 15 -- RMSE: 0.4666\n"
          ]
        },
        {
          "output_type": "stream",
          "name": "stderr",
          "text": [
            "\n"
          ]
        },
        {
          "output_type": "stream",
          "name": "stdout",
          "text": [
            "\n",
            "Trained Model saved at /gdrive/MyDrive/Netflix_Prize/results/model_1.pkl, in 12.369998216629028 seconds\n"
          ]
        },
        {
          "output_type": "stream",
          "name": "stderr",
          "text": [
            "Evaluating validation partitions: 100%|██████████| 7/7 [00:11<00:00,  1.65s/it]\n"
          ]
        },
        {
          "output_type": "stream",
          "name": "stdout",
          "text": [
            "Validation RMSE: 1.6540\n"
          ]
        }
      ]
    },
    {
      "cell_type": "code",
      "source": [],
      "metadata": {
        "id": "aqJqPYZM2gbC"
      },
      "execution_count": 12,
      "outputs": []
    }
  ]
}